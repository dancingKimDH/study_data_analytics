{
 "cells": [
  {
   "cell_type": "code",
   "execution_count": 1,
   "id": "cbd86fda-e0d4-4aa6-861c-ed174afd62b6",
   "metadata": {},
   "outputs": [],
   "source": [
    "import pandas"
   ]
  },
  {
   "cell_type": "code",
   "execution_count": 4,
   "id": "48067e8f-1123-4073-9742-e6b777c9a460",
   "metadata": {
    "tags": []
   },
   "outputs": [],
   "source": [
    "import matplotlib.pyplot as plt"
   ]
  },
  {
   "cell_type": "code",
   "execution_count": 19,
   "id": "14d52779-c6bd-4da6-8ccb-5c98aff1952c",
   "metadata": {
    "tags": []
   },
   "outputs": [],
   "source": [
    "# %matplotlib tk\n",
    "# pop up screen"
   ]
  },
  {
   "cell_type": "code",
   "execution_count": 20,
   "id": "378a2938-d902-4d25-aafd-b1e73b8e3621",
   "metadata": {
    "tags": []
   },
   "outputs": [],
   "source": [
    "%matplotlib inline"
   ]
  },
  {
   "cell_type": "code",
   "execution_count": 21,
   "id": "9410888e-aed7-48bf-b9d9-fa987d0b38b8",
   "metadata": {
    "tags": []
   },
   "outputs": [],
   "source": [
    "x_value = [1, 2, 3, 4, 5]\n",
    "y_value = [1, 3, 5, 7, 9]"
   ]
  },
  {
   "cell_type": "code",
   "execution_count": 18,
   "id": "626c421f-df36-4ed3-b9be-993b91d0582f",
   "metadata": {
    "tags": []
   },
   "outputs": [],
   "source": [
    "plt.scatter(x=x_value, y=y_value)\n",
    "# plt.title('심플 타이틀')\n",
    "plt.show()"
   ]
  },
  {
   "cell_type": "code",
   "execution_count": null,
   "id": "0baf42e4-7f6b-4593-ace6-a70520c84e8c",
   "metadata": {},
   "outputs": [],
   "source": []
  }
 ],
 "metadata": {
  "kernelspec": {
   "display_name": "Python 3 (ipykernel)",
   "language": "python",
   "name": "python3"
  },
  "language_info": {
   "codemirror_mode": {
    "name": "ipython",
    "version": 3
   },
   "file_extension": ".py",
   "mimetype": "text/x-python",
   "name": "python",
   "nbconvert_exporter": "python",
   "pygments_lexer": "ipython3",
   "version": "3.11.3"
  }
 },
 "nbformat": 4,
 "nbformat_minor": 5
}
