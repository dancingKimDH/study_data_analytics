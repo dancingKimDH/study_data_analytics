{
 "cells": [
  {
   "cell_type": "markdown",
   "id": "655fca72-1d87-4123-a615-e82e536b2787",
   "metadata": {},
   "source": [
    "## 머신러닝 의한 감성 분석"
   ]
  },
  {
   "cell_type": "code",
   "execution_count": 2,
   "id": "039891b1-6f52-464c-8238-019e4c574e40",
   "metadata": {},
   "outputs": [],
   "source": [
    "comments_positive = [\n",
    "    \"맛이 정말 풍부하고, 재료도 신선해서 좋았어요. 서비스도 훌륭했습니다.\",  # 음식\n",
    "    \"해변이 너무 깨끗하고 아름다웠습니다. 다음 여행에서는 더 오래 머물고 싶네요.\",  # 여행지\n",
    "    \"연기력이 대단했고, 스토리 전개가 매우 재미있었습니다. 강력 추천합니다!\",  # 영화\n",
    "    \"노래의 가사와 멜로디가 너무 좋아요, 계속 듣게 되네요.\",  # 음악\n",
    "    \"핸들링이 매우 부드럽고 연비도 좋습니다. 차량 내부 디자인도 세련되었어요.\",  # 자동차\n",
    "    \"배터리 수명이 길고 카메라 기능이 우수합니다. 사용하기 편리한 UI가 마음에 듭니다.\",  # 스마트폰\n",
    "    \"교수님 설명이 명확하시고 이해하기 쉽습니다, 추가 자료도 유용했습니다.\",  # 강의\n",
    "    \"성능 대비 가격이 아주 만족스러워요, 게임을 할 때 지연 없이 부드럽게 실행됩니다.\",  # 컴퓨터 \n",
    "    \"분위기가 정말 좋아서 친구들과 수다 떨기 좋아요, 커피 맛도 최상입니다!\",   #카페 \n",
    "     \"글쓰기 스타일과 주제 모두 제 취향에 딱 맞아서 한 번 읽기 시작하면 멈출 수 없어요.\"   #서적 \n",
    "]\n",
    "\n",
    "comments_negative = [\n",
    "    \"음식이 너무 짜고, 서비스도 별로였어요. 다시 가고 싶지 않네요.\",  # 음식\n",
    "    \"해변이 너무 더러웠고, 주변 시설도 부족했습니다. 다시는 방문하고 싶지 않아요.\",  # 여행지\n",
    "    \"연기력이 별로였고, 스토리 전개도 지루했습니다. 비추합니다!\",  # 영화\n",
    "    \"노래 가사가 이해가 안 가고, 멜로디도 재미없어요. 듣기 싫네요.\",  # 음악\n",
    "    \"핸들링이 너무 뻑뻑하고 연비도 나쁩니다. 차량 내부 디자인도 구식이에요.\",  # 자동차\n",
    "    \"배터리 수명이 짧고 카메라 기능도 별로입니다. 사용하기 어렵습니다.\",  # 스마트폰\n",
    "    \"교수님 설명이 애매하시고 이해하기 어렵습니다, 추가 자료도 도움되지 않았어요.\",  # 강의\n",
    "    \"성능 대비 가격이 너무 비싸요, 게임을 할 때 계속 지연됩니다.\",  # 컴퓨터 \n",
    "    \"분위기가 시끄럽서 친구들과 수다 떨기 힘들었어요, 커피 맛도 그다지...\",   #카페 \n",
    "     \"글쓰기 스타일과 주제 모두 제 취향과 맞지 않아서 한 페이지 읽는 것조차 힘들었어요.\"   #서적 \n",
    "]"
   ]
  },
  {
   "cell_type": "code",
   "execution_count": 3,
   "id": "19132a81-b540-4982-9d3c-f8fbe8c05b05",
   "metadata": {},
   "outputs": [
    {
     "data": {
      "text/plain": [
       "(10, 10)"
      ]
     },
     "execution_count": 3,
     "metadata": {},
     "output_type": "execute_result"
    }
   ],
   "source": [
    "len(comments_positive), len(comments_negative)"
   ]
  },
  {
   "cell_type": "code",
   "execution_count": 4,
   "id": "bfdf272c-7a67-4ad5-ba2f-f581d9e7d86b",
   "metadata": {},
   "outputs": [],
   "source": [
    "comments_list = comments_positive + comments_negative"
   ]
  },
  {
   "cell_type": "markdown",
   "id": "15d3e20b-c945-4370-869a-cbfdc4b86b13",
   "metadata": {},
   "source": [
    "### 형태소 분석기 통한 품사 분류"
   ]
  },
  {
   "cell_type": "code",
   "execution_count": 7,
   "id": "90a53ef2-c848-493a-8389-dfa1b3487904",
   "metadata": {
    "collapsed": true,
    "jupyter": {
     "outputs_hidden": true
    },
    "tags": []
   },
   "outputs": [
    {
     "data": {
      "text/plain": [
       "[('맛', 'NNG'),\n",
       " ('이', 'JKS'),\n",
       " ('정말', 'MAG'),\n",
       " ('풍부', 'XR'),\n",
       " ('하', 'XSA'),\n",
       " ('고', 'EC'),\n",
       " (',', 'SC'),\n",
       " ('재료', 'NNG'),\n",
       " ('도', 'JX'),\n",
       " ('신선', 'XR'),\n",
       " ('해서', 'XSA+EC'),\n",
       " ('좋', 'VA'),\n",
       " ('았', 'EP'),\n",
       " ('어요', 'EF'),\n",
       " ('.', 'SF'),\n",
       " ('서비스', 'NNG'),\n",
       " ('도', 'JX'),\n",
       " ('훌륭', 'XR'),\n",
       " ('했', 'XSA+EP'),\n",
       " ('습니다', 'EF'),\n",
       " ('.', 'SF')]"
      ]
     },
     "execution_count": 7,
     "metadata": {},
     "output_type": "execute_result"
    }
   ],
   "source": [
    "mecab.pos(comments_list[0])"
   ]
  },
  {
   "cell_type": "code",
   "execution_count": 13,
   "id": "8fabfbb7-1e4a-4510-bf07-9299918bfcd9",
   "metadata": {
    "collapsed": true,
    "jupyter": {
     "outputs_hidden": true
    },
    "tags": []
   },
   "outputs": [
    {
     "data": {
      "text/plain": [
       "[['맛',\n",
       "  '이',\n",
       "  '정말',\n",
       "  '풍부',\n",
       "  '하',\n",
       "  '고',\n",
       "  ',',\n",
       "  '재료',\n",
       "  '도',\n",
       "  '신선',\n",
       "  '해서',\n",
       "  '좋',\n",
       "  '았',\n",
       "  '어요',\n",
       "  '.',\n",
       "  '서비스',\n",
       "  '도',\n",
       "  '훌륭',\n",
       "  '했',\n",
       "  '습니다',\n",
       "  '.'],\n",
       " ['해변',\n",
       "  '이',\n",
       "  '너무',\n",
       "  '깨끗',\n",
       "  '하',\n",
       "  '고',\n",
       "  '아름다웠',\n",
       "  '습니다',\n",
       "  '.',\n",
       "  '다음',\n",
       "  '여행',\n",
       "  '에서',\n",
       "  '는',\n",
       "  '더',\n",
       "  '오래',\n",
       "  '머물',\n",
       "  '고',\n",
       "  '싶',\n",
       "  '네요',\n",
       "  '.'],\n",
       " ['연기력',\n",
       "  '이',\n",
       "  '대단',\n",
       "  '했',\n",
       "  '고',\n",
       "  ',',\n",
       "  '스토리',\n",
       "  '전개',\n",
       "  '가',\n",
       "  '매우',\n",
       "  '재미있',\n",
       "  '었',\n",
       "  '습니다',\n",
       "  '.',\n",
       "  '강력',\n",
       "  '추천',\n",
       "  '합니다',\n",
       "  '!'],\n",
       " ['노래',\n",
       "  '의',\n",
       "  '가사',\n",
       "  '와',\n",
       "  '멜로디',\n",
       "  '가',\n",
       "  '너무',\n",
       "  '좋',\n",
       "  '아요',\n",
       "  ',',\n",
       "  '계속',\n",
       "  '듣',\n",
       "  '게',\n",
       "  '되',\n",
       "  '네요',\n",
       "  '.'],\n",
       " ['핸들링',\n",
       "  '이',\n",
       "  '매우',\n",
       "  '부드럽',\n",
       "  '고',\n",
       "  '연비',\n",
       "  '도',\n",
       "  '좋',\n",
       "  '습니다',\n",
       "  '.',\n",
       "  '차량',\n",
       "  '내부',\n",
       "  '디자인',\n",
       "  '도',\n",
       "  '세련',\n",
       "  '되',\n",
       "  '었',\n",
       "  '어요',\n",
       "  '.'],\n",
       " ['배터리',\n",
       "  '수명',\n",
       "  '이',\n",
       "  '길',\n",
       "  '고',\n",
       "  '카메라',\n",
       "  '기능',\n",
       "  '이',\n",
       "  '우수',\n",
       "  '합니다',\n",
       "  '.',\n",
       "  '사용',\n",
       "  '하',\n",
       "  '기',\n",
       "  '편리',\n",
       "  '한',\n",
       "  'UI',\n",
       "  '가',\n",
       "  '마음',\n",
       "  '에',\n",
       "  '듭니다',\n",
       "  '.'],\n",
       " ['교수',\n",
       "  '님',\n",
       "  '설명',\n",
       "  '이',\n",
       "  '명확',\n",
       "  '하',\n",
       "  '시',\n",
       "  '고',\n",
       "  '이해',\n",
       "  '하',\n",
       "  '기',\n",
       "  '쉽',\n",
       "  '습니다',\n",
       "  ',',\n",
       "  '추가',\n",
       "  '자료',\n",
       "  '도',\n",
       "  '유용',\n",
       "  '했',\n",
       "  '습니다',\n",
       "  '.'],\n",
       " ['성능',\n",
       "  '대비',\n",
       "  '가격',\n",
       "  '이',\n",
       "  '아주',\n",
       "  '만족',\n",
       "  '스러워',\n",
       "  '요',\n",
       "  ',',\n",
       "  '게임',\n",
       "  '을',\n",
       "  '할',\n",
       "  '때',\n",
       "  '지연',\n",
       "  '없이',\n",
       "  '부드럽',\n",
       "  '게',\n",
       "  '실행',\n",
       "  '됩니다',\n",
       "  '.'],\n",
       " ['분위기',\n",
       "  '가',\n",
       "  '정말',\n",
       "  '좋',\n",
       "  '아서',\n",
       "  '친구',\n",
       "  '들',\n",
       "  '과',\n",
       "  '수다',\n",
       "  '떨기',\n",
       "  '좋',\n",
       "  '아요',\n",
       "  ',',\n",
       "  '커피',\n",
       "  '맛',\n",
       "  '도',\n",
       "  '최상',\n",
       "  '입니다',\n",
       "  '!'],\n",
       " ['글쓰기',\n",
       "  '스타일',\n",
       "  '과',\n",
       "  '주제',\n",
       "  '모두',\n",
       "  '제',\n",
       "  '취향',\n",
       "  '에',\n",
       "  '딱',\n",
       "  '맞',\n",
       "  '아서',\n",
       "  '한',\n",
       "  '번',\n",
       "  '읽',\n",
       "  '기',\n",
       "  '시작',\n",
       "  '하',\n",
       "  '면',\n",
       "  '멈출',\n",
       "  '수',\n",
       "  '없',\n",
       "  '어요',\n",
       "  '.'],\n",
       " ['음식',\n",
       "  '이',\n",
       "  '너무',\n",
       "  '짜',\n",
       "  '고',\n",
       "  ',',\n",
       "  '서비스',\n",
       "  '도',\n",
       "  '별로',\n",
       "  '였',\n",
       "  '어요',\n",
       "  '.',\n",
       "  '다시',\n",
       "  '가',\n",
       "  '고',\n",
       "  '싶',\n",
       "  '지',\n",
       "  '않',\n",
       "  '네요',\n",
       "  '.'],\n",
       " ['해변',\n",
       "  '이',\n",
       "  '너무',\n",
       "  '더러웠',\n",
       "  '고',\n",
       "  ',',\n",
       "  '주변',\n",
       "  '시설',\n",
       "  '도',\n",
       "  '부족',\n",
       "  '했',\n",
       "  '습니다',\n",
       "  '.',\n",
       "  '다시',\n",
       "  '는',\n",
       "  '방문',\n",
       "  '하',\n",
       "  '고',\n",
       "  '싶',\n",
       "  '지',\n",
       "  '않',\n",
       "  '아요',\n",
       "  '.'],\n",
       " ['연기력',\n",
       "  '이',\n",
       "  '별로',\n",
       "  '였',\n",
       "  '고',\n",
       "  ',',\n",
       "  '스토리',\n",
       "  '전개',\n",
       "  '도',\n",
       "  '지루',\n",
       "  '했',\n",
       "  '습니다',\n",
       "  '.',\n",
       "  '비추',\n",
       "  '합니다',\n",
       "  '!'],\n",
       " ['노래',\n",
       "  '가사',\n",
       "  '가',\n",
       "  '이해',\n",
       "  '가',\n",
       "  '안',\n",
       "  '가',\n",
       "  '고',\n",
       "  ',',\n",
       "  '멜로디',\n",
       "  '도',\n",
       "  '재미없',\n",
       "  '어요',\n",
       "  '.',\n",
       "  '듣',\n",
       "  '기',\n",
       "  '싫',\n",
       "  '네요',\n",
       "  '.'],\n",
       " ['핸들링',\n",
       "  '이',\n",
       "  '너무',\n",
       "  '뻑뻑',\n",
       "  '하',\n",
       "  '고',\n",
       "  '연비',\n",
       "  '도',\n",
       "  '나쁩니다',\n",
       "  '.',\n",
       "  '차량',\n",
       "  '내부',\n",
       "  '디자인',\n",
       "  '도',\n",
       "  '구식',\n",
       "  '이',\n",
       "  '에요',\n",
       "  '.'],\n",
       " ['배터리',\n",
       "  '수명',\n",
       "  '이',\n",
       "  '짧',\n",
       "  '고',\n",
       "  '카메라',\n",
       "  '기능',\n",
       "  '도',\n",
       "  '별로',\n",
       "  '입니다',\n",
       "  '.',\n",
       "  '사용',\n",
       "  '하',\n",
       "  '기',\n",
       "  '어렵',\n",
       "  '습니다',\n",
       "  '.'],\n",
       " ['교수',\n",
       "  '님',\n",
       "  '설명',\n",
       "  '이',\n",
       "  '애매',\n",
       "  '하',\n",
       "  '시',\n",
       "  '고',\n",
       "  '이해',\n",
       "  '하',\n",
       "  '기',\n",
       "  '어렵',\n",
       "  '습니다',\n",
       "  ',',\n",
       "  '추가',\n",
       "  '자료',\n",
       "  '도',\n",
       "  '도움',\n",
       "  '되',\n",
       "  '지',\n",
       "  '않',\n",
       "  '았',\n",
       "  '어요',\n",
       "  '.'],\n",
       " ['성능',\n",
       "  '대비',\n",
       "  '가격',\n",
       "  '이',\n",
       "  '너무',\n",
       "  '비싸',\n",
       "  '요',\n",
       "  ',',\n",
       "  '게임',\n",
       "  '을',\n",
       "  '할',\n",
       "  '때',\n",
       "  '계속',\n",
       "  '지연',\n",
       "  '됩니다',\n",
       "  '.'],\n",
       " ['분위기',\n",
       "  '가',\n",
       "  '시끄럽',\n",
       "  '서',\n",
       "  '친구',\n",
       "  '들',\n",
       "  '과',\n",
       "  '수다',\n",
       "  '떨기',\n",
       "  '힘들',\n",
       "  '었',\n",
       "  '어요',\n",
       "  ',',\n",
       "  '커피',\n",
       "  '맛',\n",
       "  '도',\n",
       "  '그다지',\n",
       "  '.',\n",
       "  '..'],\n",
       " ['글쓰기',\n",
       "  '스타일',\n",
       "  '과',\n",
       "  '주제',\n",
       "  '모두',\n",
       "  '제',\n",
       "  '취향',\n",
       "  '과',\n",
       "  '맞',\n",
       "  '지',\n",
       "  '않',\n",
       "  '아서',\n",
       "  '한',\n",
       "  '페이지',\n",
       "  '읽',\n",
       "  '는',\n",
       "  '것',\n",
       "  '조차',\n",
       "  '힘들',\n",
       "  '었',\n",
       "  '어요',\n",
       "  '.']]"
      ]
     },
     "execution_count": 13,
     "metadata": {},
     "output_type": "execute_result"
    }
   ],
   "source": [
    "from mecab import MeCab\n",
    "mecab = MeCab()\n",
    "\n",
    "tokenized_comments = list()\n",
    "for comment in comments_list :\n",
    "    comment_morphs = mecab.morphs(comment)\n",
    "    # print(' '.join(comment_morphs))\n",
    "    # 추가로 불용어 처리 필요\n",
    "    tokenized_comments.append(comment_morphs)\n",
    "tokenized_comments"
   ]
  },
  {
   "cell_type": "markdown",
   "id": "043b5de3-eff2-4bc4-aa3e-ec42c0bc2a5f",
   "metadata": {},
   "source": [
    "### 벡터 토큰화(단어 숫자화)"
   ]
  },
  {
   "cell_type": "code",
   "execution_count": 19,
   "id": "fae7fedb-03af-4f6c-ae44-b8cabe28ada8",
   "metadata": {},
   "outputs": [],
   "source": [
    "from sklearn.feature_extraction.text import CountVectorizer, TfidfVectorizer"
   ]
  },
  {
   "cell_type": "code",
   "execution_count": 23,
   "id": "86abaf39-877f-477f-81f4-ebb0b522e360",
   "metadata": {},
   "outputs": [],
   "source": [
    "comments = list()\n",
    "for token in tokenized_comments:\n",
    "    comments.append(' '.join(token))"
   ]
  },
  {
   "cell_type": "code",
   "execution_count": 24,
   "id": "1070965e-f0fc-4a64-a919-777084411d5e",
   "metadata": {},
   "outputs": [
    {
     "data": {
      "text/plain": [
       "CountVectorizer()"
      ]
     },
     "execution_count": 24,
     "metadata": {},
     "output_type": "execute_result"
    }
   ],
   "source": [
    "countVectorizer = CountVectorizer()\n",
    "countVectorizer.fit(comments)"
   ]
  },
  {
   "cell_type": "code",
   "execution_count": 25,
   "id": "63aecefb-dee0-4c7c-a61b-f590adaffae9",
   "metadata": {
    "collapsed": true,
    "jupyter": {
     "outputs_hidden": true
    },
    "tags": []
   },
   "outputs": [
    {
     "data": {
      "text/plain": [
       "{'정말': 84,\n",
       " '풍부': 100,\n",
       " '재료': 80,\n",
       " '신선': 58,\n",
       " '해서': 103,\n",
       " '어요': 66,\n",
       " '서비스': 45,\n",
       " '훌륭': 105,\n",
       " '습니다': 54,\n",
       " '해변': 102,\n",
       " '너무': 14,\n",
       " '깨끗': 11,\n",
       " '아름다웠': 60,\n",
       " '다음': 18,\n",
       " '여행': 70,\n",
       " '에서': 68,\n",
       " '오래': 73,\n",
       " '머물': 30,\n",
       " '네요': 15,\n",
       " '연기력': 71,\n",
       " '대단': 19,\n",
       " '스토리': 53,\n",
       " '전개': 83,\n",
       " '매우': 29,\n",
       " '재미있': 82,\n",
       " '강력': 3,\n",
       " '추천': 93,\n",
       " '합니다': 101,\n",
       " '노래': 16,\n",
       " '가사': 2,\n",
       " '멜로디': 32,\n",
       " '아요': 62,\n",
       " '계속': 5,\n",
       " '핸들링': 104,\n",
       " '부드럽': 38,\n",
       " '연비': 72,\n",
       " '차량': 90,\n",
       " '내부': 13,\n",
       " '디자인': 25,\n",
       " '세련': 48,\n",
       " '배터리': 36,\n",
       " '수명': 50,\n",
       " '카메라': 96,\n",
       " '기능': 10,\n",
       " '우수': 74,\n",
       " '사용': 44,\n",
       " '편리': 99,\n",
       " 'ui': 0,\n",
       " '마음': 27,\n",
       " '듭니다': 24,\n",
       " '교수': 6,\n",
       " '설명': 46,\n",
       " '명확': 33,\n",
       " '이해': 77,\n",
       " '추가': 92,\n",
       " '자료': 79,\n",
       " '유용': 75,\n",
       " '성능': 47,\n",
       " '대비': 20,\n",
       " '가격': 1,\n",
       " '아주': 63,\n",
       " '만족': 28,\n",
       " '스러워': 51,\n",
       " '게임': 4,\n",
       " '지연': 89,\n",
       " '없이': 67,\n",
       " '실행': 59,\n",
       " '됩니다': 23,\n",
       " '분위기': 40,\n",
       " '아서': 61,\n",
       " '친구': 95,\n",
       " '수다': 49,\n",
       " '떨기': 26,\n",
       " '커피': 97,\n",
       " '최상': 91,\n",
       " '입니다': 78,\n",
       " '글쓰기': 9,\n",
       " '스타일': 52,\n",
       " '주제': 87,\n",
       " '모두': 34,\n",
       " '취향': 94,\n",
       " '시작': 57,\n",
       " '멈출': 31,\n",
       " '음식': 76,\n",
       " '별로': 37,\n",
       " '다시': 17,\n",
       " '더러웠': 21,\n",
       " '주변': 86,\n",
       " '시설': 56,\n",
       " '부족': 39,\n",
       " '방문': 35,\n",
       " '지루': 88,\n",
       " '비추': 42,\n",
       " '재미없': 81,\n",
       " '뻑뻑': 43,\n",
       " '나쁩니다': 12,\n",
       " '구식': 7,\n",
       " '에요': 69,\n",
       " '어렵': 65,\n",
       " '애매': 64,\n",
       " '도움': 22,\n",
       " '비싸': 41,\n",
       " '시끄럽': 55,\n",
       " '힘들': 106,\n",
       " '그다지': 8,\n",
       " '페이지': 98,\n",
       " '조차': 85}"
      ]
     },
     "execution_count": 25,
     "metadata": {},
     "output_type": "execute_result"
    }
   ],
   "source": [
    "countVectorizer.vocabulary_"
   ]
  },
  {
   "cell_type": "code",
   "execution_count": 28,
   "id": "95850751-b846-4162-9297-e825d74bba50",
   "metadata": {},
   "outputs": [
    {
     "data": {
      "text/plain": [
       "TfidfVectorizer()"
      ]
     },
     "execution_count": 28,
     "metadata": {},
     "output_type": "execute_result"
    }
   ],
   "source": [
    "tfidfVectorizer = TfidfVectorizer(use_idf=True)\n",
    "tfidfVectorizer.fit(comments)"
   ]
  },
  {
   "cell_type": "code",
   "execution_count": 29,
   "id": "976bbde9-73b7-48f9-828b-3e861bd20a90",
   "metadata": {
    "collapsed": true,
    "jupyter": {
     "outputs_hidden": true
    },
    "tags": []
   },
   "outputs": [
    {
     "data": {
      "text/plain": [
       "array([3.35137526, 2.94591015, 2.94591015, 3.35137526, 2.94591015,\n",
       "       2.94591015, 2.94591015, 3.35137526, 3.35137526, 2.94591015,\n",
       "       2.94591015, 3.35137526, 3.35137526, 2.94591015, 2.09861229,\n",
       "       2.43508453, 2.94591015, 2.94591015, 3.35137526, 3.35137526,\n",
       "       2.94591015, 3.35137526, 3.35137526, 2.94591015, 3.35137526,\n",
       "       2.94591015, 2.94591015, 3.35137526, 3.35137526, 2.94591015,\n",
       "       3.35137526, 3.35137526, 2.94591015, 3.35137526, 2.94591015,\n",
       "       3.35137526, 2.94591015, 2.65822808, 2.94591015, 3.35137526,\n",
       "       2.94591015, 3.35137526, 3.35137526, 3.35137526, 2.94591015,\n",
       "       2.94591015, 2.94591015, 2.94591015, 3.35137526, 2.94591015,\n",
       "       2.94591015, 3.35137526, 2.94591015, 2.94591015, 1.74193734,\n",
       "       3.35137526, 3.35137526, 3.35137526, 3.35137526, 3.35137526,\n",
       "       3.35137526, 2.65822808, 2.65822808, 3.35137526, 3.35137526,\n",
       "       2.94591015, 1.84729786, 3.35137526, 3.35137526, 3.35137526,\n",
       "       3.35137526, 2.94591015, 2.94591015, 3.35137526, 3.35137526,\n",
       "       3.35137526, 3.35137526, 2.65822808, 2.94591015, 2.94591015,\n",
       "       3.35137526, 3.35137526, 3.35137526, 2.94591015, 2.94591015,\n",
       "       3.35137526, 3.35137526, 2.94591015, 3.35137526, 2.94591015,\n",
       "       2.94591015, 3.35137526, 2.94591015, 3.35137526, 2.94591015,\n",
       "       2.94591015, 2.94591015, 2.94591015, 3.35137526, 3.35137526,\n",
       "       3.35137526, 2.65822808, 2.94591015, 3.35137526, 2.94591015,\n",
       "       3.35137526, 2.94591015])"
      ]
     },
     "execution_count": 29,
     "metadata": {},
     "output_type": "execute_result"
    }
   ],
   "source": [
    "tfidfVectorizer.idf_"
   ]
  },
  {
   "cell_type": "code",
   "execution_count": 33,
   "id": "a2ab914f-f237-497d-b618-96a5507cfdd4",
   "metadata": {
    "collapsed": true,
    "jupyter": {
     "outputs_hidden": true
    },
    "tags": []
   },
   "outputs": [
    {
     "data": {
      "text/plain": [
       "array([[0.        , 0.        , 0.        , 0.        , 0.        ,\n",
       "        0.        , 0.        , 0.        , 0.        , 0.33717886,\n",
       "        0.        , 0.        , 0.        , 0.        , 0.        ,\n",
       "        0.        , 0.        , 0.        , 0.        , 0.        ,\n",
       "        0.        , 0.        , 0.        , 0.        , 0.        ,\n",
       "        0.        , 0.        , 0.        , 0.        , 0.        ,\n",
       "        0.        , 0.38358702, 0.        , 0.        , 0.33717886,\n",
       "        0.        , 0.        , 0.        , 0.        , 0.        ,\n",
       "        0.        , 0.        , 0.        , 0.        , 0.        ,\n",
       "        0.        , 0.        , 0.        , 0.        , 0.        ,\n",
       "        0.        , 0.        , 0.33717886, 0.        , 0.        ,\n",
       "        0.        , 0.        , 0.38358702, 0.        , 0.        ,\n",
       "        0.        , 0.30425175, 0.        , 0.        , 0.        ,\n",
       "        0.        , 0.21143543, 0.        , 0.        , 0.        ,\n",
       "        0.        , 0.        , 0.        , 0.        , 0.        ,\n",
       "        0.        , 0.        , 0.        , 0.        , 0.        ,\n",
       "        0.        , 0.        , 0.        , 0.        , 0.        ,\n",
       "        0.        , 0.        , 0.33717886, 0.        , 0.        ,\n",
       "        0.        , 0.        , 0.        , 0.        , 0.33717886,\n",
       "        0.        , 0.        , 0.        , 0.        , 0.        ,\n",
       "        0.        , 0.        , 0.        , 0.        , 0.        ,\n",
       "        0.        , 0.        ]])"
      ]
     },
     "execution_count": 33,
     "metadata": {},
     "output_type": "execute_result"
    }
   ],
   "source": [
    "feature = tfidfVectorizer.transform([comments[9]]) # 학습 시 2차원을 이용했으므로 변환도 2차원 적용\n",
    "feature.toarray() # vocabulary_ 갯수와 사이즈가 같음."
   ]
  },
  {
   "cell_type": "code",
   "execution_count": 41,
   "id": "98a15fc7-b80b-4a10-9209-b8ee1ced7fa9",
   "metadata": {},
   "outputs": [],
   "source": [
    "features = tfidfVectorizer.transform(comments) # 댓글 전체 벡터화"
   ]
  },
  {
   "cell_type": "markdown",
   "id": "ae6a2c18-4e6a-4015-aa7c-7ad8d86fda4e",
   "metadata": {},
   "source": [
    "### 목표 변수 생성"
   ]
  },
  {
   "cell_type": "code",
   "execution_count": 36,
   "id": "24bc08e2-b883-4f9c-ad5e-226556b2c4cd",
   "metadata": {},
   "outputs": [],
   "source": [
    "target = ['긍정'] * len(comments_positive)  + ['부정'] * len(comments_negative)\n",
    "# target"
   ]
  },
  {
   "cell_type": "markdown",
   "id": "2ecaa333-8174-454d-9f70-ce84e35176e8",
   "metadata": {},
   "source": [
    "### 머신러닝 학습"
   ]
  },
  {
   "cell_type": "code",
   "execution_count": 38,
   "id": "3ac8af6c-3d19-4eef-9be1-269fad832dea",
   "metadata": {
    "collapsed": true,
    "jupyter": {
     "outputs_hidden": true
    },
    "tags": []
   },
   "outputs": [
    {
     "name": "stdout",
     "output_type": "stream",
     "text": [
      "Collecting lightgbm\n",
      "  Using cached lightgbm-4.1.0-py3-none-win_amd64.whl (1.3 MB)\n",
      "Requirement already satisfied: numpy in c:\\users\\05-16\\anaconda3\\lib\\site-packages (from lightgbm) (1.24.4)\n",
      "Requirement already satisfied: scipy in c:\\users\\05-16\\anaconda3\\lib\\site-packages (from lightgbm) (1.9.1)\n",
      "Installing collected packages: lightgbm\n",
      "Successfully installed lightgbm-4.1.0\n",
      "Note: you may need to restart the kernel to use updated packages.\n"
     ]
    }
   ],
   "source": [
    "# %pip install --user lightgbm"
   ]
  },
  {
   "cell_type": "code",
   "execution_count": 40,
   "id": "7ea1d172-92ae-44d6-a221-5f343e035b58",
   "metadata": {
    "tags": []
   },
   "outputs": [],
   "source": [
    "from sklearn.svm import SVC"
   ]
  },
  {
   "cell_type": "code",
   "execution_count": 42,
   "id": "1d72bfae-2460-4ca5-b340-fb661d4f5e6c",
   "metadata": {},
   "outputs": [
    {
     "data": {
      "text/plain": [
       "SVC()"
      ]
     },
     "execution_count": 42,
     "metadata": {},
     "output_type": "execute_result"
    }
   ],
   "source": [
    "model = SVC()\n",
    "model.fit(features.toarray(), target)"
   ]
  },
  {
   "cell_type": "markdown",
   "id": "d5b5a3d6-c391-4bc7-b6f0-7bad74c1c122",
   "metadata": {},
   "source": [
    "### 머신러닝 통한 예측"
   ]
  },
  {
   "cell_type": "code",
   "execution_count": 43,
   "id": "d7f3737a-9892-4ddc-95f7-474e1ad4b04a",
   "metadata": {},
   "outputs": [],
   "source": [
    "comment = '코로나19의 여파로 전 세계 교사들과 학생들 모두 혼란스러운 시기를 보내고 있습니다. 어려움 속에서도 학생들을 위해 안간힘을 쓰고 있는 모든 선생님들에게, 응원과 박수를 함께 보냅니다.'"
   ]
  },
  {
   "cell_type": "code",
   "execution_count": 46,
   "id": "af2c3673-0c25-43f2-986f-4802a24f7661",
   "metadata": {
    "collapsed": true,
    "jupyter": {
     "outputs_hidden": true
    },
    "tags": []
   },
   "outputs": [
    {
     "data": {
      "text/plain": [
       "['코로나',\n",
       " '19',\n",
       " '의',\n",
       " '여파',\n",
       " '로',\n",
       " '전',\n",
       " '세계',\n",
       " '교사',\n",
       " '들',\n",
       " '과',\n",
       " '학생',\n",
       " '들',\n",
       " '모두',\n",
       " '혼란',\n",
       " '스러운',\n",
       " '시기',\n",
       " '를',\n",
       " '보내',\n",
       " '고',\n",
       " '있',\n",
       " '습니다',\n",
       " '.',\n",
       " '어려움',\n",
       " '속',\n",
       " '에서',\n",
       " '도',\n",
       " '학생',\n",
       " '들',\n",
       " '을',\n",
       " '위해',\n",
       " '안간힘',\n",
       " '을',\n",
       " '쓰',\n",
       " '고',\n",
       " '있',\n",
       " '는',\n",
       " '모든',\n",
       " '선생',\n",
       " '님',\n",
       " '들',\n",
       " '에게',\n",
       " ',',\n",
       " '응원',\n",
       " '과',\n",
       " '박수',\n",
       " '를',\n",
       " '함께',\n",
       " '보냅니다',\n",
       " '.']"
      ]
     },
     "execution_count": 46,
     "metadata": {},
     "output_type": "execute_result"
    }
   ],
   "source": [
    "tokenized_comment = mecab.morphs(comment)"
   ]
  },
  {
   "cell_type": "code",
   "execution_count": 48,
   "id": "bc5afb18-6091-4782-8db6-0b9d04fe5b29",
   "metadata": {
    "collapsed": true,
    "jupyter": {
     "outputs_hidden": true
    },
    "tags": []
   },
   "outputs": [
    {
     "data": {
      "text/plain": [
       "array([[0.        , 0.        , 0.        , 0.        , 0.        ,\n",
       "        0.        , 0.        , 0.        , 0.        , 0.        ,\n",
       "        0.        , 0.        , 0.        , 0.        , 0.        ,\n",
       "        0.        , 0.        , 0.        , 0.        , 0.        ,\n",
       "        0.        , 0.        , 0.        , 0.        , 0.        ,\n",
       "        0.        , 0.        , 0.        , 0.        , 0.        ,\n",
       "        0.        , 0.        , 0.        , 0.        , 0.61500789,\n",
       "        0.        , 0.        , 0.        , 0.        , 0.        ,\n",
       "        0.        , 0.        , 0.        , 0.        , 0.        ,\n",
       "        0.        , 0.        , 0.        , 0.        , 0.        ,\n",
       "        0.        , 0.        , 0.        , 0.        , 0.36365848,\n",
       "        0.        , 0.        , 0.        , 0.        , 0.        ,\n",
       "        0.        , 0.        , 0.        , 0.        , 0.        ,\n",
       "        0.        , 0.        , 0.        , 0.69965549, 0.        ,\n",
       "        0.        , 0.        , 0.        , 0.        , 0.        ,\n",
       "        0.        , 0.        , 0.        , 0.        , 0.        ,\n",
       "        0.        , 0.        , 0.        , 0.        , 0.        ,\n",
       "        0.        , 0.        , 0.        , 0.        , 0.        ,\n",
       "        0.        , 0.        , 0.        , 0.        , 0.        ,\n",
       "        0.        , 0.        , 0.        , 0.        , 0.        ,\n",
       "        0.        , 0.        , 0.        , 0.        , 0.        ,\n",
       "        0.        , 0.        ]])"
      ]
     },
     "execution_count": 48,
     "metadata": {},
     "output_type": "execute_result"
    }
   ],
   "source": [
    "vectorized_comment = tfidfVectorizer.transform([' '.join(tokenized_comment)])\n",
    "vectorized_comment.toarray()"
   ]
  },
  {
   "cell_type": "code",
   "execution_count": 49,
   "id": "3a0fe077-c629-4762-815b-294ef8bf368c",
   "metadata": {},
   "outputs": [
    {
     "data": {
      "text/plain": [
       "array(['긍정'], dtype='<U2')"
      ]
     },
     "execution_count": 49,
     "metadata": {},
     "output_type": "execute_result"
    }
   ],
   "source": [
    "model.predict(vectorized_comment.toarray())"
   ]
  },
  {
   "cell_type": "code",
   "execution_count": null,
   "id": "b18b8f39-f1bc-4cc4-b9e3-2a5ea57a9ed3",
   "metadata": {},
   "outputs": [],
   "source": []
  }
 ],
 "metadata": {
  "kernelspec": {
   "display_name": "Python 3 (ipykernel)",
   "language": "python",
   "name": "python3"
  },
  "language_info": {
   "codemirror_mode": {
    "name": "ipython",
    "version": 3
   },
   "file_extension": ".py",
   "mimetype": "text/x-python",
   "name": "python",
   "nbconvert_exporter": "python",
   "pygments_lexer": "ipython3",
   "version": "3.9.13"
  }
 },
 "nbformat": 4,
 "nbformat_minor": 5
}
