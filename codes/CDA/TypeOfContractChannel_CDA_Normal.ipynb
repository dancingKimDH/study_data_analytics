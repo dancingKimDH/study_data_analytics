{
 "cells": [
  {
   "cell_type": "code",
   "execution_count": 2,
   "id": "36691f36-f4d7-427d-a716-7674f2f7f86a",
   "metadata": {
    "tags": []
   },
   "outputs": [],
   "source": [
    "import pandas as pd\n",
    "import numpy as np\n",
    "import seaborn as sns\n",
    "import matplotlib.pyplot as plt\n",
    "import matplotlib as mpl\n",
    "import scipy.stats as stats\n",
    "mpl.rc('font', family = 'Malgun Gothic')\n",
    "df_TOCC = pd.read_csv('../../datasets/TypeOfContractChannel.csv')\n",
    "df_TOCC[:2]"
   ]
  },
  {
   "cell_type": "markdown",
   "id": "7617bc33-73f0-4618-ad7a-966bbae28317",
   "metadata": {},
   "source": [
    "### x: 범주형, y: 연속형 : 범주형에 따른 상관관계 확인"
   ]
  },
  {
   "cell_type": "markdown",
   "id": "d9c706d4-491f-4706-a861-ecbb4f02451e",
   "metadata": {},
   "source": [
    "### 선정 변수: channel(항목 2), Mileage\\[:500\\] (정규분포)\n",
    "- 분석 내용: channel 중 서비스방문과 홈쇼핑에 따른 마일리지 평균의 차이가 있는가?\n",
    "    - 귀무가설: 평균에 차이가 없다.\n",
    "    - 대립가설: 평균에 차이가 있다.\n",
    "- 분석 결론 (기준: p-value가 0.05)\n",
    "    - 통계 결론: \n",
    "    - 사실 결론: "
   ]
  },
  {
   "cell_type": "code",
   "execution_count": 16,
   "id": "2a6627c8-3c47-4db3-8288-ca94b776b60a",
   "metadata": {
    "tags": []
   },
   "outputs": [
    {
     "data": {
      "text/html": [
       "<div>\n",
       "<style scoped>\n",
       "    .dataframe tbody tr th:only-of-type {\n",
       "        vertical-align: middle;\n",
       "    }\n",
       "\n",
       "    .dataframe tbody tr th {\n",
       "        vertical-align: top;\n",
       "    }\n",
       "\n",
       "    .dataframe thead th {\n",
       "        text-align: right;\n",
       "    }\n",
       "</style>\n",
       "<table border=\"1\" class=\"dataframe\">\n",
       "  <thead>\n",
       "    <tr style=\"text-align: right;\">\n",
       "      <th></th>\n",
       "      <th>channel</th>\n",
       "      <th>Mileage</th>\n",
       "    </tr>\n",
       "  </thead>\n",
       "  <tbody>\n",
       "    <tr>\n",
       "      <th>0</th>\n",
       "      <td>서비스 방문</td>\n",
       "      <td>1862.0</td>\n",
       "    </tr>\n",
       "    <tr>\n",
       "      <th>1</th>\n",
       "      <td>서비스 방문</td>\n",
       "      <td>2532.0</td>\n",
       "    </tr>\n",
       "  </tbody>\n",
       "</table>\n",
       "</div>"
      ],
      "text/plain": [
       "  channel  Mileage\n",
       "0  서비스 방문   1862.0\n",
       "1  서비스 방문   2532.0"
      ]
     },
     "execution_count": 16,
     "metadata": {},
     "output_type": "execute_result"
    }
   ],
   "source": [
    "# 검증 대상 항목만 필터링 & 500개만 추출(정규분포 자료 획득)\n",
    "\n",
    "condition = (df_TOCC['channel'] == '서비스 방문') | (df_TOCC['channel'] == '홈쇼핑/방송')\n",
    "df_channel_Mileage = df_TOCC[condition][['channel', 'Mileage']][:500]\n",
    "df_channel_Mileage[:2]"
   ]
  },
  {
   "cell_type": "code",
   "execution_count": 17,
   "id": "3a0e0bc4-b1e9-42d4-aec0-55d7f8887d8a",
   "metadata": {
    "tags": []
   },
   "outputs": [],
   "source": [
    "df_service = df_channel_Mileage[df_channel_Mileage['channel'] == '서비스 방문']\n",
    "df_homeshopping = df_channel_Mileage[df_channel_Mileage['channel'] == '홈쇼핑/방송']"
   ]
  },
  {
   "cell_type": "code",
   "execution_count": 18,
   "id": "df2799b5-5b7a-4950-bc1d-712d135fd8eb",
   "metadata": {
    "tags": []
   },
   "outputs": [
    {
     "data": {
      "text/html": [
       "<div>\n",
       "<style scoped>\n",
       "    .dataframe tbody tr th:only-of-type {\n",
       "        vertical-align: middle;\n",
       "    }\n",
       "\n",
       "    .dataframe tbody tr th {\n",
       "        vertical-align: top;\n",
       "    }\n",
       "\n",
       "    .dataframe thead th {\n",
       "        text-align: right;\n",
       "    }\n",
       "</style>\n",
       "<table border=\"1\" class=\"dataframe\">\n",
       "  <thead>\n",
       "    <tr style=\"text-align: right;\">\n",
       "      <th></th>\n",
       "      <th>channel</th>\n",
       "      <th>Mileage</th>\n",
       "    </tr>\n",
       "  </thead>\n",
       "  <tbody>\n",
       "    <tr>\n",
       "      <th>0</th>\n",
       "      <td>서비스 방문</td>\n",
       "      <td>1862.0</td>\n",
       "    </tr>\n",
       "    <tr>\n",
       "      <th>1</th>\n",
       "      <td>서비스 방문</td>\n",
       "      <td>2532.0</td>\n",
       "    </tr>\n",
       "  </tbody>\n",
       "</table>\n",
       "</div>"
      ],
      "text/plain": [
       "  channel  Mileage\n",
       "0  서비스 방문   1862.0\n",
       "1  서비스 방문   2532.0"
      ]
     },
     "execution_count": 18,
     "metadata": {},
     "output_type": "execute_result"
    }
   ],
   "source": [
    "df_service[:2]"
   ]
  },
  {
   "cell_type": "code",
   "execution_count": 19,
   "id": "21ab242e-1697-4f40-be29-604dc32ab708",
   "metadata": {
    "tags": []
   },
   "outputs": [
    {
     "data": {
      "text/html": [
       "<div>\n",
       "<style scoped>\n",
       "    .dataframe tbody tr th:only-of-type {\n",
       "        vertical-align: middle;\n",
       "    }\n",
       "\n",
       "    .dataframe tbody tr th {\n",
       "        vertical-align: top;\n",
       "    }\n",
       "\n",
       "    .dataframe thead th {\n",
       "        text-align: right;\n",
       "    }\n",
       "</style>\n",
       "<table border=\"1\" class=\"dataframe\">\n",
       "  <thead>\n",
       "    <tr style=\"text-align: right;\">\n",
       "      <th></th>\n",
       "      <th>channel</th>\n",
       "      <th>Mileage</th>\n",
       "    </tr>\n",
       "  </thead>\n",
       "  <tbody>\n",
       "    <tr>\n",
       "      <th>2</th>\n",
       "      <td>홈쇼핑/방송</td>\n",
       "      <td>2363.0</td>\n",
       "    </tr>\n",
       "    <tr>\n",
       "      <th>6</th>\n",
       "      <td>홈쇼핑/방송</td>\n",
       "      <td>2348.0</td>\n",
       "    </tr>\n",
       "  </tbody>\n",
       "</table>\n",
       "</div>"
      ],
      "text/plain": [
       "  channel  Mileage\n",
       "2  홈쇼핑/방송   2363.0\n",
       "6  홈쇼핑/방송   2348.0"
      ]
     },
     "execution_count": 19,
     "metadata": {},
     "output_type": "execute_result"
    }
   ],
   "source": [
    "df_homeshopping[:2]"
   ]
  },
  {
   "cell_type": "markdown",
   "id": "8ab748b7-34e0-47b2-abe8-e32aef9e87e8",
   "metadata": {},
   "source": [
    "##### 등분산 검증"
   ]
  },
  {
   "cell_type": "code",
   "execution_count": null,
   "id": "3b6bbaf4-2fff-42a2-8ce5-0853c07b4ff6",
   "metadata": {},
   "outputs": [],
   "source": []
  }
 ],
 "metadata": {
  "kernelspec": {
   "display_name": "Python 3 (ipykernel)",
   "language": "python",
   "name": "python3"
  },
  "language_info": {
   "codemirror_mode": {
    "name": "ipython",
    "version": 3
   },
   "file_extension": ".py",
   "mimetype": "text/x-python",
   "name": "python",
   "nbconvert_exporter": "python",
   "pygments_lexer": "ipython3",
   "version": "3.11.3"
  }
 },
 "nbformat": 4,
 "nbformat_minor": 5
}
