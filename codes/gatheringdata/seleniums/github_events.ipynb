{
 "cells": [
  {
   "cell_type": "markdown",
   "id": "8c1f9e89-bae8-4e14-8457-51e306f6916e",
   "metadata": {},
   "source": [
    "## Github signin"
   ]
  },
  {
   "cell_type": "code",
   "execution_count": 34,
   "id": "0a4cdce1-b4ef-4618-b45c-2a8ffe73f234",
   "metadata": {},
   "outputs": [
    {
     "data": {
      "text/plain": [
       "selenium.webdriver.chrome.webdriver.WebDriver"
      ]
     },
     "execution_count": 34,
     "metadata": {},
     "output_type": "execute_result"
    }
   ],
   "source": [
    "from selenium import webdriver\n",
    "browser = webdriver.Chrome(executable_path='../../../../chromedriver.exe')\n",
    "# url in address window\n",
    "browser.get('https://github.com/')\n",
    "type(browser)"
   ]
  },
  {
   "cell_type": "markdown",
   "id": "5cb8ef80-f962-40cf-8eb0-6a10d417e5ed",
   "metadata": {},
   "source": [
    "### Login 화면 링크 tag \n",
    "- 접힘 메뉴 tag : body > div.logged-out.env-production.page-responsive.header-overlay.home-campaign > div.position-relative.js-header-wrapper > header > div > div.d-flex.flex-justify-between.flex-items-center.width-full.width-lg-auto > div.flex-1.flex-order-2.text-right > button > span > span\n",
    "- click tag : div > div > div > a.HeaderMenu-link.HeaderMenu-link--sign-in"
   ]
  },
  {
   "cell_type": "code",
   "execution_count": 35,
   "id": "08b84617-f170-4c20-8153-aa4a5df42dfd",
   "metadata": {},
   "outputs": [],
   "source": [
    "element_path = 'body > div.logged-out.env-production.page-responsive.header-overlay.home-campaign > div.position-relative.js-header-wrapper > header > div > div.d-flex.flex-justify-between.flex-items-center.width-full.width-lg-auto > div.flex-1.flex-order-2.text-right > button > span > span'\n",
    "collapsed_menu = browser.find_element_by_css_selector(element_path)\n",
    "collapsed_menu.click()"
   ]
  },
  {
   "cell_type": "code",
   "execution_count": 37,
   "id": "fc5120e6-edff-4e47-a449-85b95d41fdc1",
   "metadata": {},
   "outputs": [
    {
     "data": {
      "text/plain": [
       "selenium.webdriver.remote.webelement.WebElement"
      ]
     },
     "execution_count": 37,
     "metadata": {},
     "output_type": "execute_result"
    }
   ],
   "source": [
    "element_path = 'div > div > div > a.HeaderMenu-link.HeaderMenu-link--sign-in'\n",
    "# browser.find_element_by_css_selector(element_path).click()\n",
    "signin_button = browser.find_element_by_css_selector(element_path)\n",
    "type(signin_button)"
   ]
  },
  {
   "cell_type": "code",
   "execution_count": 38,
   "id": "f6348492-da4e-4857-b7d1-e62d687d99a4",
   "metadata": {},
   "outputs": [],
   "source": [
    "signin_button.click()"
   ]
  },
  {
   "cell_type": "markdown",
   "id": "a68cde7a-74c3-4604-b9ac-54bcd48f5102",
   "metadata": {},
   "source": [
    "### Login 화면\n",
    "- user id input tag : #login_field\n",
    "- password input tag : #password\n",
    "- click tag : input.btn.btn-primary.btn-block.js-sign-in-button"
   ]
  },
  {
   "cell_type": "code",
   "execution_count": 39,
   "id": "02e14155-d35c-4ff3-96f1-f2fdce4b6600",
   "metadata": {},
   "outputs": [],
   "source": [
    "element_path = '#login_field'\n",
    "login_field = browser.find_element_by_css_selector(element_path)\n",
    "login_field.send_keys('otter.oh@gmail.com')"
   ]
  },
  {
   "cell_type": "code",
   "execution_count": null,
   "id": "8dd2f172-9528-4f47-bd1c-ccde0f1b4a84",
   "metadata": {},
   "outputs": [],
   "source": [
    "element_path = '#password'\n",
    "password_field = browser.find_element_by_css_selector(element_path)\n",
    "password_field.send_keys('******')"
   ]
  },
  {
   "cell_type": "code",
   "execution_count": 40,
   "id": "10c6ff2d-df45-4216-8355-7552c9297b4d",
   "metadata": {},
   "outputs": [],
   "source": [
    "element_path = 'input.btn.btn-primary.btn-block.js-sign-in-button'\n",
    "signin_button = browser.find_element_by_css_selector(element_path)\n",
    "signin_button.click()"
   ]
  },
  {
   "cell_type": "code",
   "execution_count": 20,
   "id": "59bc949d-8481-4f3d-9d04-9349d4dd997f",
   "metadata": {},
   "outputs": [],
   "source": [
    "# browser.quit()"
   ]
  },
  {
   "cell_type": "code",
   "execution_count": null,
   "id": "c79eeee5-62a0-4c16-9802-d3a0c376001b",
   "metadata": {},
   "outputs": [],
   "source": []
  }
 ],
 "metadata": {
  "kernelspec": {
   "display_name": "Python 3 (ipykernel)",
   "language": "python",
   "name": "python3"
  },
  "language_info": {
   "codemirror_mode": {
    "name": "ipython",
    "version": 3
   },
   "file_extension": ".py",
   "mimetype": "text/x-python",
   "name": "python",
   "nbconvert_exporter": "python",
   "pygments_lexer": "ipython3",
   "version": "3.9.13"
  }
 },
 "nbformat": 4,
 "nbformat_minor": 5
}
