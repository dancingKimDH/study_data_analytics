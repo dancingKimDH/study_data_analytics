{
 "cells": [
  {
   "cell_type": "code",
   "execution_count": 2,
   "id": "9cb16504-e544-4c0b-b07e-a2e959214b3f",
   "metadata": {
    "tags": []
   },
   "outputs": [],
   "source": [
    "from selenium import webdriver"
   ]
  },
  {
   "cell_type": "code",
   "execution_count": 3,
   "id": "865d8e82-cd69-4b2e-80d0-12c284a55a71",
   "metadata": {
    "tags": []
   },
   "outputs": [],
   "source": [
    "browser = webdriver.Chrome(executable_path='../../../../chromedriver.exe') "
   ]
  },
  {
   "cell_type": "code",
   "execution_count": 4,
   "id": "ba757000-9ba4-4b59-bbc1-20bf9caf0b1d",
   "metadata": {
    "tags": []
   },
   "outputs": [],
   "source": [
    "# url in address window \n",
    "browser.get('https://brunch.co.kr/keyword/%EC%B1%85%EB%A6%AC%EB%B7%B0')"
   ]
  },
  {
   "cell_type": "code",
   "execution_count": 5,
   "id": "a033d49e-1fda-43c9-b625-4759156df15d",
   "metadata": {
    "tags": []
   },
   "outputs": [
    {
     "data": {
      "text/plain": [
       "(list, selenium.webdriver.remote.webelement.WebElement)"
      ]
     },
     "execution_count": 5,
     "metadata": {},
     "output_type": "execute_result"
    }
   ],
   "source": [
    "element_path = '.tit_subject'\n",
    "elements = browser.find_elements_by_css_selector(element_path)\n",
    "type(elements), type(elements[0])"
   ]
  },
  {
   "cell_type": "code",
   "execution_count": 11,
   "id": "64f5b0f3-445b-4dcf-bd7f-e7e0f1ab9b0a",
   "metadata": {
    "tags": []
   },
   "outputs": [],
   "source": [
    "## for문을 활용하여 제목만 가져오기 \n",
    "names = []\n",
    "for bookelement in elements:\n",
    "    name = bookelement.text\n",
    "    names.append(name) "
   ]
  },
  {
   "cell_type": "code",
   "execution_count": 13,
   "id": "8473f6ef-4f54-417c-9179-7587e6abedd1",
   "metadata": {
    "tags": []
   },
   "outputs": [
    {
     "data": {
      "text/plain": [
       "list"
      ]
     },
     "execution_count": 13,
     "metadata": {},
     "output_type": "execute_result"
    }
   ],
   "source": [
    "type(names)"
   ]
  },
  {
   "cell_type": "code",
   "execution_count": 12,
   "id": "71708fe2-98ae-46df-a069-f13f15d50001",
   "metadata": {
    "tags": []
   },
   "outputs": [
    {
     "name": "stdout",
     "output_type": "stream",
     "text": [
      "[\"'국사'만으로는 부족하다. '동북아사'여야 한다\", '젊어서 위태로운 예술가를 향한 등대', '그래서 내가 불안했던 거야', '완벽한 아이 팔아요', '일상의 모험 - 서동욱', 'Egon Schiele : the complete wo', '노동자의 시간은 저절로 흐르지 않는다', '방랑기 / 하야시 후미코 / 1930', '나카오카 겐메이에게 배우는 일', '퇴사하고 잘 놀고 잘 살고 싶다', '쾌락 과잉 시대에서 균형 찾기', '평온할 줄만 알았던 그녀의 모험', '그래도 사랑했고 그래서 버텼던 시절']\n"
     ]
    }
   ],
   "source": [
    "print(names) "
   ]
  },
  {
   "cell_type": "code",
   "execution_count": 14,
   "id": "d3f5c5d0-da12-460d-b239-5838aa06a0a3",
   "metadata": {
    "tags": []
   },
   "outputs": [],
   "source": [
    "import pandas as pd"
   ]
  },
  {
   "cell_type": "code",
   "execution_count": 15,
   "id": "d614a207-ef44-4357-a932-4889ce42a4f7",
   "metadata": {
    "tags": []
   },
   "outputs": [],
   "source": [
    "df_names = pd.DataFrame(names, columns=['name'])"
   ]
  },
  {
   "cell_type": "code",
   "execution_count": 17,
   "id": "18e24462-cdfa-4d2f-b312-84f6eb9f762d",
   "metadata": {
    "tags": []
   },
   "outputs": [],
   "source": [
    "# CSV 파일로 저장\n",
    "df_names.to_csv('../../../datasets/booklist.csv', index=False)"
   ]
  }
 ],
 "metadata": {
  "kernelspec": {
   "display_name": "Python 3 (ipykernel)",
   "language": "python",
   "name": "python3"
  },
  "language_info": {
   "codemirror_mode": {
    "name": "ipython",
    "version": 3
   },
   "file_extension": ".py",
   "mimetype": "text/x-python",
   "name": "python",
   "nbconvert_exporter": "python",
   "pygments_lexer": "ipython3",
   "version": "3.11.4"
  }
 },
 "nbformat": 4,
 "nbformat_minor": 5
}
