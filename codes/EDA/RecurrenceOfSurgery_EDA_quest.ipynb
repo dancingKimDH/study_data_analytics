{
 "cells": [
  {
   "cell_type": "code",
   "execution_count": 1,
   "id": "cb5d2a4c-d081-4b3c-ae94-8d455f13f2e0",
   "metadata": {
    "tags": []
   },
   "outputs": [],
   "source": [
    "import matplotlib.pyplot as plt\n",
    "import matplotlib as mpl\n",
    "mpl.rc('font', family = 'Malgun Gothic')\n",
    "import seaborn as sns\n",
    "import pandas as pd"
   ]
  },
  {
   "cell_type": "code",
   "execution_count": 2,
   "id": "fd74875f-4506-455f-b833-e15107c7f2af",
   "metadata": {
    "tags": []
   },
   "outputs": [
    {
     "data": {
      "text/html": [
       "<div>\n",
       "<style scoped>\n",
       "    .dataframe tbody tr th:only-of-type {\n",
       "        vertical-align: middle;\n",
       "    }\n",
       "\n",
       "    .dataframe tbody tr th {\n",
       "        vertical-align: top;\n",
       "    }\n",
       "\n",
       "    .dataframe thead th {\n",
       "        text-align: right;\n",
       "    }\n",
       "</style>\n",
       "<table border=\"1\" class=\"dataframe\">\n",
       "  <thead>\n",
       "    <tr style=\"text-align: right;\">\n",
       "      <th></th>\n",
       "      <th>Unnamed: 0</th>\n",
       "      <th>환자ID</th>\n",
       "      <th>Large Lymphocyte</th>\n",
       "      <th>Location of herniation</th>\n",
       "      <th>ODI</th>\n",
       "      <th>가족력</th>\n",
       "      <th>간질성폐질환</th>\n",
       "      <th>고혈압여부</th>\n",
       "      <th>과거수술횟수</th>\n",
       "      <th>당뇨여부</th>\n",
       "      <th>...</th>\n",
       "      <th>Modic change</th>\n",
       "      <th>PI</th>\n",
       "      <th>PT</th>\n",
       "      <th>Seg Angle(raw)</th>\n",
       "      <th>Vaccum disc</th>\n",
       "      <th>골밀도</th>\n",
       "      <th>디스크단면적</th>\n",
       "      <th>디스크위치</th>\n",
       "      <th>척추이동척도</th>\n",
       "      <th>척추전방위증</th>\n",
       "    </tr>\n",
       "  </thead>\n",
       "  <tbody>\n",
       "    <tr>\n",
       "      <th>0</th>\n",
       "      <td>0</td>\n",
       "      <td>1PT</td>\n",
       "      <td>22.8</td>\n",
       "      <td>3</td>\n",
       "      <td>51.0</td>\n",
       "      <td>0.0</td>\n",
       "      <td>0</td>\n",
       "      <td>0</td>\n",
       "      <td>0</td>\n",
       "      <td>0</td>\n",
       "      <td>...</td>\n",
       "      <td>3</td>\n",
       "      <td>51.6</td>\n",
       "      <td>36.6</td>\n",
       "      <td>14.4</td>\n",
       "      <td>0</td>\n",
       "      <td>-1.01</td>\n",
       "      <td>2048.5</td>\n",
       "      <td>4</td>\n",
       "      <td>Down</td>\n",
       "      <td>0</td>\n",
       "    </tr>\n",
       "    <tr>\n",
       "      <th>1</th>\n",
       "      <td>1</td>\n",
       "      <td>2PT</td>\n",
       "      <td>44.9</td>\n",
       "      <td>4</td>\n",
       "      <td>26.0</td>\n",
       "      <td>0.0</td>\n",
       "      <td>0</td>\n",
       "      <td>0</td>\n",
       "      <td>0</td>\n",
       "      <td>0</td>\n",
       "      <td>...</td>\n",
       "      <td>0</td>\n",
       "      <td>40.8</td>\n",
       "      <td>7.2</td>\n",
       "      <td>17.8</td>\n",
       "      <td>0</td>\n",
       "      <td>-1.14</td>\n",
       "      <td>1753.1</td>\n",
       "      <td>4</td>\n",
       "      <td>Up</td>\n",
       "      <td>0</td>\n",
       "    </tr>\n",
       "  </tbody>\n",
       "</table>\n",
       "<p>2 rows × 52 columns</p>\n",
       "</div>"
      ],
      "text/plain": [
       "   Unnamed: 0 환자ID  Large Lymphocyte  Location of herniation   ODI  가족력  \\\n",
       "0           0  1PT              22.8                       3  51.0  0.0   \n",
       "1           1  2PT              44.9                       4  26.0  0.0   \n",
       "\n",
       "   간질성폐질환  고혈압여부  과거수술횟수  당뇨여부  ...  Modic change    PI    PT  Seg Angle(raw)  \\\n",
       "0       0      0       0     0  ...             3  51.6  36.6            14.4   \n",
       "1       0      0       0     0  ...             0  40.8   7.2            17.8   \n",
       "\n",
       "   Vaccum disc   골밀도  디스크단면적  디스크위치  척추이동척도  척추전방위증  \n",
       "0            0 -1.01  2048.5      4    Down       0  \n",
       "1            0 -1.14  1753.1      4      Up       0  \n",
       "\n",
       "[2 rows x 52 columns]"
      ]
     },
     "execution_count": 2,
     "metadata": {},
     "output_type": "execute_result"
    }
   ],
   "source": [
    "df_ROS = pd.read_csv('../../datasets/RecurrenceOfSurgery.csv')\n",
    "df_ROS.head(2)"
   ]
  },
  {
   "cell_type": "code",
   "execution_count": 3,
   "id": "346bc1d1-ecbe-4ef9-8ca8-9fe0f37e1286",
   "metadata": {
    "tags": []
   },
   "outputs": [
    {
     "name": "stdout",
     "output_type": "stream",
     "text": [
      "<class 'pandas.core.frame.DataFrame'>\n",
      "RangeIndex: 1894 entries, 0 to 1893\n",
      "Data columns (total 9 columns):\n",
      " #   Column  Non-Null Count  Dtype  \n",
      "---  ------  --------------  -----  \n",
      " 0   성별      1894 non-null   int64  \n",
      " 1   신장      1894 non-null   int64  \n",
      " 2   심혈관질환   1894 non-null   int64  \n",
      " 3   체중      1894 non-null   float64\n",
      " 4   흡연여부    1894 non-null   int64  \n",
      " 5   연령      1894 non-null   int64  \n",
      " 6   직업      1479 non-null   object \n",
      " 7   혈액형     1894 non-null   object \n",
      " 8   재발여부    1894 non-null   int64  \n",
      "dtypes: float64(1), int64(6), object(2)\n",
      "memory usage: 133.3+ KB\n"
     ]
    }
   ],
   "source": [
    "df_ROS_patient = df_ROS[['성별', '신장', '심혈관질환', '체중', '흡연여부', '연령', '직업', '혈액형', '재발여부']]\n",
    "df_ROS_patient.info()"
   ]
  },
  {
   "cell_type": "markdown",
   "id": "ab8dae57-82a2-4148-b041-98edd5aef3bd",
   "metadata": {},
   "source": [
    "### 전처리\n",
    "- 대상 컬럼에 의한 레코드 삭제 시 데이터셋의 수 고려"
   ]
  },
  {
   "cell_type": "code",
   "execution_count": 9,
   "id": "63a5013b-0210-4da7-a3d0-24354b84a359",
   "metadata": {
    "tags": []
   },
   "outputs": [
    {
     "data": {
      "text/plain": [
       "성별       0\n",
       "신장       0\n",
       "심혈관질환    0\n",
       "체중       0\n",
       "흡연여부     0\n",
       "연령       0\n",
       "직업       0\n",
       "혈액형      0\n",
       "재발여부     0\n",
       "dtype: int64"
      ]
     },
     "execution_count": 9,
     "metadata": {},
     "output_type": "execute_result"
    }
   ],
   "source": [
    "# df_ROS_patient.isnull().sum()\n",
    "df_ROS_patient = df_ROS_patient.dropna()\n",
    "df_ROS_patient.isnull().sum()"
   ]
  },
  {
   "cell_type": "markdown",
   "id": "e5f9c115-8a04-4cc0-849d-27a2ecedd327",
   "metadata": {},
   "source": [
    "### 상관 관계 확인\n",
    "- 목표변수: '재발여부' - 분포 언밸런스 (연속형은 정규화 확인, 범주형은 언밸런스 확인)\n",
    "- 설명변수: '성별', '신장', '심혈관질환', '체중', '흡연여부', '연령', '직업', '혈액형' "
   ]
  },
  {
   "cell_type": "code",
   "execution_count": 12,
   "id": "87de6b80-ba0e-4c42-9a2f-f9d273c3a2d8",
   "metadata": {
    "tags": []
   },
   "outputs": [
    {
     "data": {
      "text/plain": [
       "<Axes: xlabel='재발여부', ylabel='count'>"
      ]
     },
     "execution_count": 12,
     "metadata": {},
     "output_type": "execute_result"
    },
    {
     "data": {
      "image/png": "[encoded data removed]",
      "text/plain": [
       "<Figure size 640x480 with 1 Axes>"
      ]
     },
     "metadata": {},
     "output_type": "display_data"
    }
   ],
   "source": [
    "### 데이터 타입과 분포\n",
    "# 범주형과 연속형\n",
    "sns.countplot(data=df_ROS_patient, x='재발여부')"
   ]
  },
  {
   "cell_type": "code",
   "execution_count": 13,
   "id": "9d09192a-cf3e-427e-a272-9904022f8822",
   "metadata": {
    "tags": []
   },
   "outputs": [
    {
     "name": "stdout",
     "output_type": "stream",
     "text": [
      "<class 'pandas.core.frame.DataFrame'>\n",
      "Int64Index: 1479 entries, 0 to 1893\n",
      "Data columns (total 9 columns):\n",
      " #   Column  Non-Null Count  Dtype  \n",
      "---  ------  --------------  -----  \n",
      " 0   성별      1479 non-null   int64  \n",
      " 1   신장      1479 non-null   int64  \n",
      " 2   심혈관질환   1479 non-null   int64  \n",
      " 3   체중      1479 non-null   float64\n",
      " 4   흡연여부    1479 non-null   int64  \n",
      " 5   연령      1479 non-null   int64  \n",
      " 6   직업      1479 non-null   object \n",
      " 7   혈액형     1479 non-null   object \n",
      " 8   재발여부    1479 non-null   int64  \n",
      "dtypes: float64(1), int64(6), object(2)\n",
      "memory usage: 115.5+ KB\n"
     ]
    }
   ],
   "source": [
    "df_ROS_patient.info()"
   ]
  },
  {
   "cell_type": "code",
   "execution_count": 16,
   "id": "76666ce4-2c85-44f5-bcf9-e17e632f2cd0",
   "metadata": {
    "tags": []
   },
   "outputs": [],
   "source": [
    "# Object 변환 대상: 성별, 심혈관질환, 흡연여부, (직업, 혈액형), 재발여부"
   ]
  },
  {
   "cell_type": "code",
   "execution_count": 17,
   "id": "657e2aa3-b4d9-479e-9e1e-ceda2692ba7c",
   "metadata": {
    "tags": []
   },
   "outputs": [
    {
     "data": {
      "text/plain": [
       "0    1423\n",
       "1      56\n",
       "Name: 심혈관질환, dtype: int64"
      ]
     },
     "execution_count": 17,
     "metadata": {},
     "output_type": "execute_result"
    }
   ],
   "source": [
    "# 심혈관질환 value 확인\n",
    "df_ROS_patient['심혈관질환'].value_counts()"
   ]
  },
  {
   "cell_type": "code",
   "execution_count": 22,
   "id": "9bc123d1-6a23-4991-b8f7-606fb62c4c21",
   "metadata": {
    "tags": []
   },
   "outputs": [
    {
     "name": "stdout",
     "output_type": "stream",
     "text": [
      "<class 'pandas.core.frame.DataFrame'>\n",
      "Int64Index: 1479 entries, 0 to 1893\n",
      "Data columns (total 9 columns):\n",
      " #   Column  Non-Null Count  Dtype  \n",
      "---  ------  --------------  -----  \n",
      " 0   성별      1479 non-null   object \n",
      " 1   신장      1479 non-null   int64  \n",
      " 2   심혈관질환   1479 non-null   object \n",
      " 3   체중      1479 non-null   float64\n",
      " 4   흡연여부    1479 non-null   object \n",
      " 5   연령      1479 non-null   int64  \n",
      " 6   직업      1479 non-null   object \n",
      " 7   혈액형     1479 non-null   object \n",
      " 8   재발여부    1479 non-null   object \n",
      "dtypes: float64(1), int64(2), object(6)\n",
      "memory usage: 115.5+ KB\n"
     ]
    }
   ],
   "source": [
    "df_ROS_patient[['성별', '심혈관질환', '흡연여부', '재발여부']] = df_ROS_patient[['성별', '심혈관질환', '흡연여부', '재발여부']].astype(object)\n",
    "df_ROS_patient.info()"
   ]
  },
  {
   "cell_type": "code",
   "execution_count": 23,
   "id": "b84cc3dd-c8cf-4b36-ba45-4795b038aff3",
   "metadata": {
    "tags": []
   },
   "outputs": [
    {
     "data": {
      "text/html": [
       "<div>\n",
       "<style scoped>\n",
       "    .dataframe tbody tr th:only-of-type {\n",
       "        vertical-align: middle;\n",
       "    }\n",
       "\n",
       "    .dataframe tbody tr th {\n",
       "        vertical-align: top;\n",
       "    }\n",
       "\n",
       "    .dataframe thead th {\n",
       "        text-align: right;\n",
       "    }\n",
       "</style>\n",
       "<table border=\"1\" class=\"dataframe\">\n",
       "  <thead>\n",
       "    <tr style=\"text-align: right;\">\n",
       "      <th></th>\n",
       "      <th>신장</th>\n",
       "      <th>체중</th>\n",
       "      <th>연령</th>\n",
       "    </tr>\n",
       "  </thead>\n",
       "  <tbody>\n",
       "    <tr>\n",
       "      <th>count</th>\n",
       "      <td>1479.000000</td>\n",
       "      <td>1479.000000</td>\n",
       "      <td>1479.000000</td>\n",
       "    </tr>\n",
       "    <tr>\n",
       "      <th>mean</th>\n",
       "      <td>168.158891</td>\n",
       "      <td>68.243070</td>\n",
       "      <td>39.980392</td>\n",
       "    </tr>\n",
       "    <tr>\n",
       "      <th>std</th>\n",
       "      <td>9.250669</td>\n",
       "      <td>11.426661</td>\n",
       "      <td>13.314364</td>\n",
       "    </tr>\n",
       "    <tr>\n",
       "      <th>min</th>\n",
       "      <td>140.000000</td>\n",
       "      <td>35.000000</td>\n",
       "      <td>15.000000</td>\n",
       "    </tr>\n",
       "    <tr>\n",
       "      <th>25%</th>\n",
       "      <td>161.000000</td>\n",
       "      <td>60.000000</td>\n",
       "      <td>30.000000</td>\n",
       "    </tr>\n",
       "    <tr>\n",
       "      <th>50%</th>\n",
       "      <td>169.000000</td>\n",
       "      <td>67.800000</td>\n",
       "      <td>39.000000</td>\n",
       "    </tr>\n",
       "    <tr>\n",
       "      <th>75%</th>\n",
       "      <td>175.000000</td>\n",
       "      <td>75.150000</td>\n",
       "      <td>47.000000</td>\n",
       "    </tr>\n",
       "    <tr>\n",
       "      <th>max</th>\n",
       "      <td>204.000000</td>\n",
       "      <td>136.100000</td>\n",
       "      <td>86.000000</td>\n",
       "    </tr>\n",
       "  </tbody>\n",
       "</table>\n",
       "</div>"
      ],
      "text/plain": [
       "                신장           체중           연령\n",
       "count  1479.000000  1479.000000  1479.000000\n",
       "mean    168.158891    68.243070    39.980392\n",
       "std       9.250669    11.426661    13.314364\n",
       "min     140.000000    35.000000    15.000000\n",
       "25%     161.000000    60.000000    30.000000\n",
       "50%     169.000000    67.800000    39.000000\n",
       "75%     175.000000    75.150000    47.000000\n",
       "max     204.000000   136.100000    86.000000"
      ]
     },
     "execution_count": 23,
     "metadata": {},
     "output_type": "execute_result"
    }
   ],
   "source": [
    "df_ROS_patient.describe()"
   ]
  },
  {
   "cell_type": "code",
   "execution_count": 26,
   "id": "45bcd9a4-7a84-44d9-93a9-ead34140100d",
   "metadata": {
    "tags": []
   },
   "outputs": [
    {
     "data": {
      "text/plain": [
       "['신장', '체중', '연령']"
      ]
     },
     "execution_count": 26,
     "metadata": {},
     "output_type": "execute_result"
    }
   ],
   "source": [
    "df_ROS_patient.describe().columns\n",
    "patient_list = df_ROS_patient.describe().columns.to_list()\n",
    "patient_list"
   ]
  },
  {
   "cell_type": "code",
   "execution_count": 30,
   "id": "b509d8ce-9e78-4f69-b60a-5dd1086429b9",
   "metadata": {
    "tags": []
   },
   "outputs": [
    {
     "data": {
      "image/png": "[encoded data removed]",
      "text/plain": [
       "<Figure size 640x480 with 1 Axes>"
      ]
     },
     "metadata": {},
     "output_type": "display_data"
    },
    {
     "data": {
      "image/png": "[encoded data removed]",
      "text/plain": [
       "<Figure size 640x480 with 1 Axes>"
      ]
     },
     "metadata": {},
     "output_type": "display_data"
    },
    {
     "data": {
      "image/png": "[encoded data removed]",
      "text/plain": [
       "<Figure size 640x480 with 1 Axes>"
      ]
     },
     "metadata": {},
     "output_type": "display_data"
    }
   ],
   "source": [
    "# x가 연속형이고 y가 범주형인 경우\n",
    "for item in patient_list:\n",
    "    sns.boxplot(data=df_ROS_patient, y= item, x= '재발여부')\n",
    "    plt.show()"
   ]
  },
  {
   "cell_type": "markdown",
   "id": "4f682389-ca74-4ed1-a260-be3a7a5d9c20",
   "metadata": {},
   "source": [
    "### 상관관계\n",
    "- 신장: 상관관계 낮음 (분포 변화 작음)\n",
    "- 체중: 상관관계 높음 (분포 변화 큼)\n",
    "- 연령: 상관관계 존재 (분포 변화 존재)"
   ]
  },
  {
   "cell_type": "code",
   "execution_count": 34,
   "id": "c252e09c-29b2-4abc-974e-7ab0722fec80",
   "metadata": {
    "tags": []
   },
   "outputs": [
    {
     "data": {
      "text/html": [
       "<div>\n",
       "<style scoped>\n",
       "    .dataframe tbody tr th:only-of-type {\n",
       "        vertical-align: middle;\n",
       "    }\n",
       "\n",
       "    .dataframe tbody tr th {\n",
       "        vertical-align: top;\n",
       "    }\n",
       "\n",
       "    .dataframe thead th {\n",
       "        text-align: right;\n",
       "    }\n",
       "</style>\n",
       "<table border=\"1\" class=\"dataframe\">\n",
       "  <thead>\n",
       "    <tr style=\"text-align: right;\">\n",
       "      <th></th>\n",
       "      <th>성별</th>\n",
       "      <th>신장</th>\n",
       "      <th>심혈관질환</th>\n",
       "      <th>체중</th>\n",
       "      <th>흡연여부</th>\n",
       "      <th>연령</th>\n",
       "      <th>직업</th>\n",
       "      <th>혈액형</th>\n",
       "    </tr>\n",
       "  </thead>\n",
       "  <tbody>\n",
       "    <tr>\n",
       "      <th>0</th>\n",
       "      <td>2</td>\n",
       "      <td>163</td>\n",
       "      <td>0</td>\n",
       "      <td>60.3</td>\n",
       "      <td>0</td>\n",
       "      <td>66</td>\n",
       "      <td>자영업</td>\n",
       "      <td>RH+A</td>\n",
       "    </tr>\n",
       "    <tr>\n",
       "      <th>1</th>\n",
       "      <td>1</td>\n",
       "      <td>171</td>\n",
       "      <td>0</td>\n",
       "      <td>71.7</td>\n",
       "      <td>0</td>\n",
       "      <td>47</td>\n",
       "      <td>운동선수</td>\n",
       "      <td>RH+A</td>\n",
       "    </tr>\n",
       "    <tr>\n",
       "      <th>2</th>\n",
       "      <td>1</td>\n",
       "      <td>178</td>\n",
       "      <td>0</td>\n",
       "      <td>77.1</td>\n",
       "      <td>0</td>\n",
       "      <td>39</td>\n",
       "      <td>특수전문직</td>\n",
       "      <td>RH+B</td>\n",
       "    </tr>\n",
       "    <tr>\n",
       "      <th>3</th>\n",
       "      <td>1</td>\n",
       "      <td>174</td>\n",
       "      <td>0</td>\n",
       "      <td>74.2</td>\n",
       "      <td>0</td>\n",
       "      <td>40</td>\n",
       "      <td>주부</td>\n",
       "      <td>RH+O</td>\n",
       "    </tr>\n",
       "    <tr>\n",
       "      <th>4</th>\n",
       "      <td>1</td>\n",
       "      <td>183</td>\n",
       "      <td>0</td>\n",
       "      <td>80.7</td>\n",
       "      <td>0</td>\n",
       "      <td>42</td>\n",
       "      <td>특수전문직</td>\n",
       "      <td>RH+A</td>\n",
       "    </tr>\n",
       "    <tr>\n",
       "      <th>...</th>\n",
       "      <td>...</td>\n",
       "      <td>...</td>\n",
       "      <td>...</td>\n",
       "      <td>...</td>\n",
       "      <td>...</td>\n",
       "      <td>...</td>\n",
       "      <td>...</td>\n",
       "      <td>...</td>\n",
       "    </tr>\n",
       "    <tr>\n",
       "      <th>1889</th>\n",
       "      <td>2</td>\n",
       "      <td>157</td>\n",
       "      <td>0</td>\n",
       "      <td>64.0</td>\n",
       "      <td>0</td>\n",
       "      <td>59</td>\n",
       "      <td>무직</td>\n",
       "      <td>RH+A</td>\n",
       "    </tr>\n",
       "    <tr>\n",
       "      <th>1890</th>\n",
       "      <td>2</td>\n",
       "      <td>157</td>\n",
       "      <td>0</td>\n",
       "      <td>59.0</td>\n",
       "      <td>0</td>\n",
       "      <td>42</td>\n",
       "      <td>사무직</td>\n",
       "      <td>RH+B</td>\n",
       "    </tr>\n",
       "    <tr>\n",
       "      <th>1891</th>\n",
       "      <td>1</td>\n",
       "      <td>167</td>\n",
       "      <td>0</td>\n",
       "      <td>70.0</td>\n",
       "      <td>0</td>\n",
       "      <td>61</td>\n",
       "      <td>무직</td>\n",
       "      <td>RH+O</td>\n",
       "    </tr>\n",
       "    <tr>\n",
       "      <th>1892</th>\n",
       "      <td>1</td>\n",
       "      <td>177</td>\n",
       "      <td>0</td>\n",
       "      <td>77.0</td>\n",
       "      <td>0</td>\n",
       "      <td>29</td>\n",
       "      <td>사무직</td>\n",
       "      <td>RH+A</td>\n",
       "    </tr>\n",
       "    <tr>\n",
       "      <th>1893</th>\n",
       "      <td>2</td>\n",
       "      <td>168</td>\n",
       "      <td>0</td>\n",
       "      <td>49.0</td>\n",
       "      <td>0</td>\n",
       "      <td>30</td>\n",
       "      <td>사무직</td>\n",
       "      <td>RH+AB</td>\n",
       "    </tr>\n",
       "  </tbody>\n",
       "</table>\n",
       "<p>1479 rows × 8 columns</p>\n",
       "</div>"
      ],
      "text/plain": [
       "     성별   신장 심혈관질환    체중 흡연여부  연령     직업    혈액형\n",
       "0     2  163     0  60.3    0  66    자영업   RH+A\n",
       "1     1  171     0  71.7    0  47   운동선수   RH+A\n",
       "2     1  178     0  77.1    0  39  특수전문직   RH+B\n",
       "3     1  174     0  74.2    0  40     주부   RH+O\n",
       "4     1  183     0  80.7    0  42  특수전문직   RH+A\n",
       "...  ..  ...   ...   ...  ...  ..    ...    ...\n",
       "1889  2  157     0  64.0    0  59     무직   RH+A\n",
       "1890  2  157     0  59.0    0  42    사무직   RH+B\n",
       "1891  1  167     0  70.0    0  61     무직   RH+O\n",
       "1892  1  177     0  77.0    0  29    사무직   RH+A\n",
       "1893  2  168     0  49.0    0  30    사무직  RH+AB\n",
       "\n",
       "[1479 rows x 8 columns]"
      ]
     },
     "execution_count": 34,
     "metadata": {},
     "output_type": "execute_result"
    }
   ],
   "source": [
    "# 범주형 & 범주형\n",
    "df_ROS_patient.drop(columns=['재발여부'])\n",
    "# df_ROS_patient.describe(include=object)"
   ]
  },
  {
   "cell_type": "code",
   "execution_count": 38,
   "id": "80b6ab99-65ed-4e40-89bc-f4a96a311899",
   "metadata": {
    "tags": []
   },
   "outputs": [
    {
     "data": {
      "image/png": "[encoded data removed]",
      "text/plain": [
       "<Figure size 640x480 with 1 Axes>"
      ]
     },
     "metadata": {},
     "output_type": "display_data"
    }
   ],
   "source": [
    "sns.barplot(data=df_ROS_patient, x='성별', y='재발여부')\n",
    "plt.show()"
   ]
  },
  {
   "cell_type": "code",
   "execution_count": 39,
   "id": "fe57c17a-edf1-481a-9675-ecc4e07162fc",
   "metadata": {
    "tags": []
   },
   "outputs": [
    {
     "data": {
      "image/png": "[encoded data removed]",
      "text/plain": [
       "<Figure size 640x480 with 1 Axes>"
      ]
     },
     "metadata": {},
     "output_type": "display_data"
    }
   ],
   "source": [
    "sns.barplot(data=df_ROS_patient, x='흡연여부', y='재발여부')\n",
    "plt.show()"
   ]
  },
  {
   "cell_type": "markdown",
   "id": "ee6773da-48c2-44fc-91ac-aa8c507d4c93",
   "metadata": {
    "tags": []
   },
   "source": [
    "### 상관관계\n",
    "- 성별: 상관관계 존재 (분포 변화 작음)\n",
    "- 흡연여부: 상관관계 높음 (분포 변화 큼)"
   ]
  },
  {
   "cell_type": "code",
   "execution_count": 42,
   "id": "4428a21a-f851-47b5-8165-5040c37a837d",
   "metadata": {
    "tags": []
   },
   "outputs": [
    {
     "data": {
      "image/png": "[encoded data removed]",
      "text/plain": [
       "<Figure size 640x480 with 1 Axes>"
      ]
     },
     "metadata": {},
     "output_type": "display_data"
    }
   ],
   "source": [
    "sns.barplot(data=df_ROS_patient, x='직업', y='재발여부')\n",
    "plt.show()"
   ]
  },
  {
   "cell_type": "code",
   "execution_count": 43,
   "id": "311e97a7-0192-4e24-ae03-4139193749a1",
   "metadata": {
    "tags": []
   },
   "outputs": [
    {
     "data": {
      "image/png": "[encoded data removed]",
      "text/plain": [
       "<Figure size 640x480 with 1 Axes>"
      ]
     },
     "metadata": {},
     "output_type": "display_data"
    }
   ],
   "source": [
    "sns.barplot(data=df_ROS_patient, x='혈액형', y='재발여부')\n",
    "plt.show()"
   ]
  },
  {
   "cell_type": "code",
   "execution_count": null,
   "id": "1139207d-3222-4d71-ba2d-3fb4af580006",
   "metadata": {},
   "outputs": [],
   "source": []
  }
 ],
 "metadata": {
  "kernelspec": {
   "display_name": "Python 3 (ipykernel)",
   "language": "python",
   "name": "python3"
  },
  "language_info": {
   "codemirror_mode": {
    "name": "ipython",
    "version": 3
   },
   "file_extension": ".py",
   "mimetype": "text/x-python",
   "name": "python",
   "nbconvert_exporter": "python",
   "pygments_lexer": "ipython3",
   "version": "3.11.3"
  }
 },
 "nbformat": 4,
 "nbformat_minor": 5
}
