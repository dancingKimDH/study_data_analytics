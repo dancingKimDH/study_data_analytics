{
 "cells": [
  {
   "cell_type": "code",
   "execution_count": 2,
   "id": "7d781483-f693-4f73-b021-59d1538953bd",
   "metadata": {
    "tags": []
   },
   "outputs": [],
   "source": [
    "import pandas as pd\n",
    "import numpy as np"
   ]
  },
  {
   "cell_type": "code",
   "execution_count": 3,
   "id": "2f18bf5d-1ce8-4274-8289-01a2da1e6574",
   "metadata": {
    "tags": []
   },
   "outputs": [
    {
     "data": {
      "text/plain": [
       "'1.5.3'"
      ]
     },
     "execution_count": 3,
     "metadata": {},
     "output_type": "execute_result"
    }
   ],
   "source": [
    "pd.__version__"
   ]
  },
  {
   "cell_type": "markdown",
   "id": "6cbbc723-9d0f-4798-a60d-cc06c96a07c1",
   "metadata": {},
   "source": [
    "### DataFrame의 구조\n",
    "- index(row) - column(column) - data"
   ]
  },
  {
   "cell_type": "code",
   "execution_count": 4,
   "id": "247db8ae-0585-4974-bc6c-985cad470ba7",
   "metadata": {
    "tags": []
   },
   "outputs": [
    {
     "data": {
      "text/html": [
       "<div>\n",
       "<style scoped>\n",
       "    .dataframe tbody tr th:only-of-type {\n",
       "        vertical-align: middle;\n",
       "    }\n",
       "\n",
       "    .dataframe tbody tr th {\n",
       "        vertical-align: top;\n",
       "    }\n",
       "\n",
       "    .dataframe thead th {\n",
       "        text-align: right;\n",
       "    }\n",
       "</style>\n",
       "<table border=\"1\" class=\"dataframe\">\n",
       "  <thead>\n",
       "    <tr style=\"text-align: right;\">\n",
       "      <th></th>\n",
       "      <th>0</th>\n",
       "    </tr>\n",
       "  </thead>\n",
       "  <tbody>\n",
       "    <tr>\n",
       "      <th>0</th>\n",
       "      <td>10</td>\n",
       "    </tr>\n",
       "    <tr>\n",
       "      <th>1</th>\n",
       "      <td>20</td>\n",
       "    </tr>\n",
       "    <tr>\n",
       "      <th>2</th>\n",
       "      <td>30</td>\n",
       "    </tr>\n",
       "    <tr>\n",
       "      <th>3</th>\n",
       "      <td>40</td>\n",
       "    </tr>\n",
       "    <tr>\n",
       "      <th>4</th>\n",
       "      <td>50</td>\n",
       "    </tr>\n",
       "  </tbody>\n",
       "</table>\n",
       "</div>"
      ],
      "text/plain": [
       "    0\n",
       "0  10\n",
       "1  20\n",
       "2  30\n",
       "3  40\n",
       "4  50"
      ]
     },
     "execution_count": 4,
     "metadata": {},
     "output_type": "execute_result"
    }
   ],
   "source": [
    "num_list = [10, 20, 30, 40, 50]\n",
    "pd.DataFrame(data=num_list)"
   ]
  },
  {
   "cell_type": "code",
   "execution_count": 5,
   "id": "e143812b-58c8-405d-9c23-4d347f5acabe",
   "metadata": {
    "tags": []
   },
   "outputs": [
    {
     "data": {
      "text/html": [
       "<div>\n",
       "<style scoped>\n",
       "    .dataframe tbody tr th:only-of-type {\n",
       "        vertical-align: middle;\n",
       "    }\n",
       "\n",
       "    .dataframe tbody tr th {\n",
       "        vertical-align: top;\n",
       "    }\n",
       "\n",
       "    .dataframe thead th {\n",
       "        text-align: right;\n",
       "    }\n",
       "</style>\n",
       "<table border=\"1\" class=\"dataframe\">\n",
       "  <thead>\n",
       "    <tr style=\"text-align: right;\">\n",
       "      <th></th>\n",
       "      <th>가격</th>\n",
       "      <th>종류</th>\n",
       "      <th>판매일자</th>\n",
       "      <th>반품여부</th>\n",
       "    </tr>\n",
       "  </thead>\n",
       "  <tbody>\n",
       "    <tr>\n",
       "      <th>0</th>\n",
       "      <td>1000</td>\n",
       "      <td>과자</td>\n",
       "      <td>2009-12-31</td>\n",
       "      <td>반품</td>\n",
       "    </tr>\n",
       "    <tr>\n",
       "      <th>1</th>\n",
       "      <td>2000</td>\n",
       "      <td>과자</td>\n",
       "      <td>2009-12-31</td>\n",
       "      <td>반품</td>\n",
       "    </tr>\n",
       "    <tr>\n",
       "      <th>2</th>\n",
       "      <td>3000</td>\n",
       "      <td>아이스크림</td>\n",
       "      <td>2009-12-31</td>\n",
       "      <td>정상</td>\n",
       "    </tr>\n",
       "    <tr>\n",
       "      <th>3</th>\n",
       "      <td>1000</td>\n",
       "      <td>과자</td>\n",
       "      <td>2009-12-31</td>\n",
       "      <td>반품</td>\n",
       "    </tr>\n",
       "  </tbody>\n",
       "</table>\n",
       "</div>"
      ],
      "text/plain": [
       "     가격     종류        판매일자 반품여부\n",
       "0  1000     과자  2009-12-31   반품\n",
       "1  2000     과자  2009-12-31   반품\n",
       "2  3000  아이스크림  2009-12-31   정상\n",
       "3  1000     과자  2009-12-31   반품"
      ]
     },
     "execution_count": 5,
     "metadata": {},
     "output_type": "execute_result"
    }
   ],
   "source": [
    "double_columns = ['가격','종류','판매일자','반품여부']\n",
    "double_list = [\n",
    "    [1000, '과자', '2009-12-31', '반품'],\n",
    "    [2000, '과자', '2009-12-31', '반품'],\n",
    "    [3000, '아이스크림', '2009-12-31', '정상'],\n",
    "    [1000, '과자', '2009-12-31', '반품']\n",
    "\n",
    "]\n",
    "\n",
    "df_saledays = pd.DataFrame(data=double_list, columns=double_columns)\n",
    "df_saledays"
   ]
  },
  {
   "cell_type": "code",
   "execution_count": 6,
   "id": "d849fec3-7cee-404c-a73d-c8ca75648388",
   "metadata": {
    "tags": []
   },
   "outputs": [
    {
     "data": {
      "text/plain": [
       "pandas.core.frame.DataFrame"
      ]
     },
     "execution_count": 6,
     "metadata": {},
     "output_type": "execute_result"
    }
   ],
   "source": [
    "type(df_saledays)"
   ]
  },
  {
   "cell_type": "code",
   "execution_count": 7,
   "id": "90a6b8b4-ad65-4e41-bab5-7e4877d6e494",
   "metadata": {},
   "outputs": [
    {
     "data": {
      "text/html": [
       "<div>\n",
       "<style scoped>\n",
       "    .dataframe tbody tr th:only-of-type {\n",
       "        vertical-align: middle;\n",
       "    }\n",
       "\n",
       "    .dataframe tbody tr th {\n",
       "        vertical-align: top;\n",
       "    }\n",
       "\n",
       "    .dataframe thead th {\n",
       "        text-align: right;\n",
       "    }\n",
       "</style>\n",
       "<table border=\"1\" class=\"dataframe\">\n",
       "  <thead>\n",
       "    <tr style=\"text-align: right;\">\n",
       "      <th></th>\n",
       "      <th>가격</th>\n",
       "      <th>반품여부</th>\n",
       "    </tr>\n",
       "  </thead>\n",
       "  <tbody>\n",
       "    <tr>\n",
       "      <th>0</th>\n",
       "      <td>1000</td>\n",
       "      <td>반품</td>\n",
       "    </tr>\n",
       "    <tr>\n",
       "      <th>1</th>\n",
       "      <td>2000</td>\n",
       "      <td>반품</td>\n",
       "    </tr>\n",
       "    <tr>\n",
       "      <th>2</th>\n",
       "      <td>3000</td>\n",
       "      <td>정상</td>\n",
       "    </tr>\n",
       "    <tr>\n",
       "      <th>3</th>\n",
       "      <td>1000</td>\n",
       "      <td>반품</td>\n",
       "    </tr>\n",
       "  </tbody>\n",
       "</table>\n",
       "</div>"
      ],
      "text/plain": [
       "     가격 반품여부\n",
       "0  1000   반품\n",
       "1  2000   반품\n",
       "2  3000   정상\n",
       "3  1000   반품"
      ]
     },
     "execution_count": 7,
     "metadata": {},
     "output_type": "execute_result"
    }
   ],
   "source": [
    "df_saledays_dropcol = df_saledays.drop(columns=['종류', '판매일자'])\n",
    "df_saledays_dropcol"
   ]
  },
  {
   "cell_type": "code",
   "execution_count": 8,
   "id": "c8e2d241-7b09-47c0-855d-d0fcf80c7a9f",
   "metadata": {
    "tags": []
   },
   "outputs": [
    {
     "data": {
      "text/html": [
       "<div>\n",
       "<style scoped>\n",
       "    .dataframe tbody tr th:only-of-type {\n",
       "        vertical-align: middle;\n",
       "    }\n",
       "\n",
       "    .dataframe tbody tr th {\n",
       "        vertical-align: top;\n",
       "    }\n",
       "\n",
       "    .dataframe thead th {\n",
       "        text-align: right;\n",
       "    }\n",
       "</style>\n",
       "<table border=\"1\" class=\"dataframe\">\n",
       "  <thead>\n",
       "    <tr style=\"text-align: right;\">\n",
       "      <th></th>\n",
       "      <th>가격</th>\n",
       "      <th>반품여부</th>\n",
       "    </tr>\n",
       "  </thead>\n",
       "  <tbody>\n",
       "    <tr>\n",
       "      <th>2</th>\n",
       "      <td>3000</td>\n",
       "      <td>정상</td>\n",
       "    </tr>\n",
       "  </tbody>\n",
       "</table>\n",
       "</div>"
      ],
      "text/plain": [
       "     가격 반품여부\n",
       "2  3000   정상"
      ]
     },
     "execution_count": 8,
     "metadata": {},
     "output_type": "execute_result"
    }
   ],
   "source": [
    "# 필터: and - & or - |\n",
    "# condition = (df_saledays_dropcol['반품여부'] == '정상')\n",
    "condition = (df_saledays_dropcol['가격'] >= 2500)\n",
    "df_saledays_dropcol.loc[condition]"
   ]
  },
  {
   "cell_type": "code",
   "execution_count": 9,
   "id": "939f4a3b-6d9f-4339-9b9b-9cb91f855a57",
   "metadata": {
    "tags": []
   },
   "outputs": [
    {
     "data": {
      "text/plain": [
       "0    False\n",
       "1    False\n",
       "2     True\n",
       "3    False\n",
       "dtype: bool"
      ]
     },
     "execution_count": 9,
     "metadata": {},
     "output_type": "execute_result"
    }
   ],
   "source": [
    "# (df_saledays_dropcol['가격'] >= 2500 ) | (df_saledays_dropcol['가격'] <= 1000)\n",
    "(df_saledays_dropcol['반품여부'] == '정상') & (df_saledays_dropcol['가격'] >= 2500)"
   ]
  },
  {
   "cell_type": "markdown",
   "id": "2fec17ff-a616-4cbe-aa3f-4babf8a6860c",
   "metadata": {
    "tags": []
   },
   "source": [
    "## 요약"
   ]
  },
  {
   "cell_type": "code",
   "execution_count": 10,
   "id": "d314aea9-bfff-4ae7-b370-9ef6ca09f2f3",
   "metadata": {
    "tags": []
   },
   "outputs": [
    {
     "data": {
      "text/html": [
       "<div>\n",
       "<style scoped>\n",
       "    .dataframe tbody tr th:only-of-type {\n",
       "        vertical-align: middle;\n",
       "    }\n",
       "\n",
       "    .dataframe tbody tr th {\n",
       "        vertical-align: top;\n",
       "    }\n",
       "\n",
       "    .dataframe thead th {\n",
       "        text-align: right;\n",
       "    }\n",
       "</style>\n",
       "<table border=\"1\" class=\"dataframe\">\n",
       "  <thead>\n",
       "    <tr style=\"text-align: right;\">\n",
       "      <th></th>\n",
       "      <th>가격</th>\n",
       "    </tr>\n",
       "    <tr>\n",
       "      <th>반품여부</th>\n",
       "      <th></th>\n",
       "    </tr>\n",
       "  </thead>\n",
       "  <tbody>\n",
       "    <tr>\n",
       "      <th>반품</th>\n",
       "      <td>1000</td>\n",
       "    </tr>\n",
       "    <tr>\n",
       "      <th>정상</th>\n",
       "      <td>3000</td>\n",
       "    </tr>\n",
       "  </tbody>\n",
       "</table>\n",
       "</div>"
      ],
      "text/plain": [
       "        가격\n",
       "반품여부      \n",
       "반품    1000\n",
       "정상    3000"
      ]
     },
     "execution_count": 10,
     "metadata": {},
     "output_type": "execute_result"
    }
   ],
   "source": [
    "# pd.pivot_table(data=df_saledays_dropcol, index='반품여부', values = '가격')\n",
    "df_saledays_dropcol.pivot_table(index='반품여부', values='가격', aggfunc=np.min)"
   ]
  },
  {
   "cell_type": "code",
   "execution_count": 11,
   "id": "e5956939-932d-4348-ac70-b55d4046e6d1",
   "metadata": {
    "tags": []
   },
   "outputs": [
    {
     "data": {
      "text/html": [
       "<div>\n",
       "<style scoped>\n",
       "    .dataframe tbody tr th:only-of-type {\n",
       "        vertical-align: middle;\n",
       "    }\n",
       "\n",
       "    .dataframe tbody tr th {\n",
       "        vertical-align: top;\n",
       "    }\n",
       "\n",
       "    .dataframe thead th {\n",
       "        text-align: right;\n",
       "    }\n",
       "</style>\n",
       "<table border=\"1\" class=\"dataframe\">\n",
       "  <thead>\n",
       "    <tr style=\"text-align: right;\">\n",
       "      <th></th>\n",
       "      <th>가격</th>\n",
       "      <th>종류</th>\n",
       "      <th>판매일자</th>\n",
       "      <th>반품여부</th>\n",
       "    </tr>\n",
       "  </thead>\n",
       "  <tbody>\n",
       "    <tr>\n",
       "      <th>0</th>\n",
       "      <td>1000</td>\n",
       "      <td>과자</td>\n",
       "      <td>2009-12-31</td>\n",
       "      <td>반품</td>\n",
       "    </tr>\n",
       "    <tr>\n",
       "      <th>1</th>\n",
       "      <td>2000</td>\n",
       "      <td>과자</td>\n",
       "      <td>2009-12-31</td>\n",
       "      <td>반품</td>\n",
       "    </tr>\n",
       "    <tr>\n",
       "      <th>2</th>\n",
       "      <td>3000</td>\n",
       "      <td>아이스크림</td>\n",
       "      <td>2009-12-31</td>\n",
       "      <td>정상</td>\n",
       "    </tr>\n",
       "    <tr>\n",
       "      <th>3</th>\n",
       "      <td>1000</td>\n",
       "      <td>과자</td>\n",
       "      <td>2009-12-31</td>\n",
       "      <td>반품</td>\n",
       "    </tr>\n",
       "  </tbody>\n",
       "</table>\n",
       "</div>"
      ],
      "text/plain": [
       "     가격     종류        판매일자 반품여부\n",
       "0  1000     과자  2009-12-31   반품\n",
       "1  2000     과자  2009-12-31   반품\n",
       "2  3000  아이스크림  2009-12-31   정상\n",
       "3  1000     과자  2009-12-31   반품"
      ]
     },
     "execution_count": 11,
     "metadata": {},
     "output_type": "execute_result"
    }
   ],
   "source": [
    "df_saledays"
   ]
  },
  {
   "cell_type": "code",
   "execution_count": 12,
   "id": "87d8005d-817c-41f6-ad5f-a893a22e9647",
   "metadata": {
    "tags": []
   },
   "outputs": [
    {
     "data": {
      "text/plain": [
       "1750.0"
      ]
     },
     "execution_count": 12,
     "metadata": {},
     "output_type": "execute_result"
    }
   ],
   "source": [
    "df_saledays['가격'].mean()"
   ]
  },
  {
   "cell_type": "markdown",
   "id": "35d30dea-49ab-46d2-bc74-7fbe119aa44e",
   "metadata": {
    "tags": []
   },
   "source": [
    "### Apply()"
   ]
  },
  {
   "cell_type": "markdown",
   "id": "633c1920-b597-46c2-b744-5667e9c78b8e",
   "metadata": {
    "tags": []
   },
   "source": [
    "#### Apply single variable"
   ]
  },
  {
   "cell_type": "code",
   "execution_count": 13,
   "id": "839502d1-121e-4357-b074-330de4901f19",
   "metadata": {
    "tags": []
   },
   "outputs": [],
   "source": [
    "def mean_subtraction(cell_value) :\n",
    "    result = 1750 - cell_value\n",
    "    return result"
   ]
  },
  {
   "cell_type": "code",
   "execution_count": 14,
   "id": "86df3e31-01bc-4c4b-8097-1fdc0c1278d8",
   "metadata": {
    "tags": []
   },
   "outputs": [
    {
     "data": {
      "text/plain": [
       "1000"
      ]
     },
     "execution_count": 14,
     "metadata": {},
     "output_type": "execute_result"
    }
   ],
   "source": [
    "mean_subtraction(750)"
   ]
  },
  {
   "cell_type": "code",
   "execution_count": 15,
   "id": "eeed1229-e981-4bad-9d47-fc855c868fb6",
   "metadata": {
    "tags": []
   },
   "outputs": [
    {
     "data": {
      "text/html": [
       "<div>\n",
       "<style scoped>\n",
       "    .dataframe tbody tr th:only-of-type {\n",
       "        vertical-align: middle;\n",
       "    }\n",
       "\n",
       "    .dataframe tbody tr th {\n",
       "        vertical-align: top;\n",
       "    }\n",
       "\n",
       "    .dataframe thead th {\n",
       "        text-align: right;\n",
       "    }\n",
       "</style>\n",
       "<table border=\"1\" class=\"dataframe\">\n",
       "  <thead>\n",
       "    <tr style=\"text-align: right;\">\n",
       "      <th></th>\n",
       "      <th>가격</th>\n",
       "      <th>종류</th>\n",
       "      <th>판매일자</th>\n",
       "      <th>반품여부</th>\n",
       "      <th>가격차이</th>\n",
       "    </tr>\n",
       "  </thead>\n",
       "  <tbody>\n",
       "    <tr>\n",
       "      <th>0</th>\n",
       "      <td>1000</td>\n",
       "      <td>과자</td>\n",
       "      <td>2009-12-31</td>\n",
       "      <td>반품</td>\n",
       "      <td>750</td>\n",
       "    </tr>\n",
       "    <tr>\n",
       "      <th>1</th>\n",
       "      <td>2000</td>\n",
       "      <td>과자</td>\n",
       "      <td>2009-12-31</td>\n",
       "      <td>반품</td>\n",
       "      <td>-250</td>\n",
       "    </tr>\n",
       "    <tr>\n",
       "      <th>2</th>\n",
       "      <td>3000</td>\n",
       "      <td>아이스크림</td>\n",
       "      <td>2009-12-31</td>\n",
       "      <td>정상</td>\n",
       "      <td>-1250</td>\n",
       "    </tr>\n",
       "    <tr>\n",
       "      <th>3</th>\n",
       "      <td>1000</td>\n",
       "      <td>과자</td>\n",
       "      <td>2009-12-31</td>\n",
       "      <td>반품</td>\n",
       "      <td>750</td>\n",
       "    </tr>\n",
       "  </tbody>\n",
       "</table>\n",
       "</div>"
      ],
      "text/plain": [
       "     가격     종류        판매일자 반품여부  가격차이\n",
       "0  1000     과자  2009-12-31   반품   750\n",
       "1  2000     과자  2009-12-31   반품  -250\n",
       "2  3000  아이스크림  2009-12-31   정상 -1250\n",
       "3  1000     과자  2009-12-31   반품   750"
      ]
     },
     "execution_count": 15,
     "metadata": {},
     "output_type": "execute_result"
    }
   ],
   "source": [
    "df_saledays['가격'].apply(mean_subtraction)\n",
    "df_saledays['가격차이'] = df_saledays['가격'].apply(mean_subtraction)\n",
    "df_saledays"
   ]
  },
  {
   "cell_type": "code",
   "execution_count": 16,
   "id": "6be85dfa-1f13-48c4-ac00-de286e998c09",
   "metadata": {
    "tags": []
   },
   "outputs": [],
   "source": [
    "# df_saledays['가격차이'] = df_saledays['가격'] # 각 cell 당 평균과의 차이"
   ]
  },
  {
   "cell_type": "code",
   "execution_count": 17,
   "id": "06260b76-c917-4012-ba80-428c81c21853",
   "metadata": {
    "tags": []
   },
   "outputs": [
    {
     "data": {
      "text/plain": [
       "0    1750\n",
       "1    1750\n",
       "2    1750\n",
       "3    1750\n",
       "dtype: int64"
      ]
     },
     "execution_count": 17,
     "metadata": {},
     "output_type": "execute_result"
    }
   ],
   "source": [
    "df_saledays['가격'] + df_saledays['가격차이']"
   ]
  },
  {
   "cell_type": "markdown",
   "id": "489bb7da-35a4-427b-9685-d8e322e13e51",
   "metadata": {},
   "source": [
    "#### Apply multiple variables"
   ]
  },
  {
   "cell_type": "code",
   "execution_count": null,
   "id": "7aead294-5136-47ee-8234-2e72d06f821d",
   "metadata": {},
   "outputs": [],
   "source": [
    "df_saledays"
   ]
  },
  {
   "cell_type": "markdown",
   "id": "92b420e4-5e78-4099-a468-fa03be60d7dc",
   "metadata": {},
   "source": [
    "### Series"
   ]
  },
  {
   "cell_type": "code",
   "execution_count": 18,
   "id": "25f03ca2-c676-43b9-b266-6d246627ee81",
   "metadata": {},
   "outputs": [],
   "source": [
    "### Series\n",
    "# - index -data"
   ]
  },
  {
   "cell_type": "code",
   "execution_count": 19,
   "id": "83d97535-6346-4c0e-bf2c-bbb15ee01d45",
   "metadata": {
    "tags": []
   },
   "outputs": [
    {
     "ename": "NameError",
     "evalue": "name 'ser_floats' is not defined",
     "output_type": "error",
     "traceback": [
      "\u001b[1;31m---------------------------------------------------------------------------\u001b[0m",
      "\u001b[1;31mNameError\u001b[0m                                 Traceback (most recent call last)",
      "Cell \u001b[1;32mIn[19], line 1\u001b[0m\n\u001b[1;32m----> 1\u001b[0m \u001b[38;5;28mtype\u001b[39m(ser_floats)\n",
      "\u001b[1;31mNameError\u001b[0m: name 'ser_floats' is not defined"
     ]
    }
   ],
   "source": [
    "type(ser_floats)"
   ]
  },
  {
   "cell_type": "code",
   "execution_count": null,
   "id": "acfce812-ca17-428a-8669-aa9180d97c7b",
   "metadata": {
    "tags": []
   },
   "outputs": [],
   "source": [
    "single_data = [0.1, 0.2, 0.3, 0.4, 0.5]\n",
    "ser_floats = pd.Series(data=single_data)\n",
    "ser_floats"
   ]
  },
  {
   "cell_type": "markdown",
   "id": "99022878-f04b-4eb4-891f-21a027fe7de8",
   "metadata": {
    "tags": []
   },
   "source": [
    "### 통계 수치 표현"
   ]
  },
  {
   "cell_type": "code",
   "execution_count": null,
   "id": "31f86fb8-bc0a-416f-add3-1161b650dc28",
   "metadata": {
    "tags": []
   },
   "outputs": [],
   "source": [
    "import numpy as np"
   ]
  },
  {
   "cell_type": "code",
   "execution_count": null,
   "id": "2c0559f1-b72b-4091-8400-ecefd6e23005",
   "metadata": {
    "tags": []
   },
   "outputs": [],
   "source": [
    "arr = np.array([6, 4, 1, 3, 5, 3, 10, 7, 9])"
   ]
  },
  {
   "cell_type": "code",
   "execution_count": null,
   "id": "7d46b66d-99d1-4332-bea0-c6336f34fe34",
   "metadata": {
    "tags": []
   },
   "outputs": [],
   "source": [
    "# 평균, 합계\n",
    "np.mean(arr), np.sum(arr)"
   ]
  },
  {
   "cell_type": "code",
   "execution_count": null,
   "id": "b91840f4-7752-461c-86ec-84429feea6a7",
   "metadata": {
    "tags": []
   },
   "outputs": [],
   "source": [
    "# 중앙값\n",
    "np.median(arr)"
   ]
  },
  {
   "cell_type": "code",
   "execution_count": null,
   "id": "3aa3cfbd-384a-4993-8e99-d7ff710fb64b",
   "metadata": {
    "tags": []
   },
   "outputs": [],
   "source": [
    "# 최솟값, 최댓값\n",
    "print(np.min(arr), np.max(arr))"
   ]
  },
  {
   "cell_type": "code",
   "execution_count": null,
   "id": "51948f3e-c051-486d-966f-0955624fa17b",
   "metadata": {
    "tags": []
   },
   "outputs": [],
   "source": [
    "# 분산, 표준편차\n",
    "np.var(arr), np.std(arr)"
   ]
  },
  {
   "cell_type": "markdown",
   "id": "01b149cc-4434-466f-9f55-159a264e1fac",
   "metadata": {},
   "source": [
    "#### IQR"
   ]
  },
  {
   "cell_type": "code",
   "execution_count": null,
   "id": "e6759111-6fe0-4f4e-b7d3-0c4c4c56d2dc",
   "metadata": {
    "tags": []
   },
   "outputs": [],
   "source": [
    "import numpy as np\n",
    "data = np.array([44, 32, 53, 75, 36, 45, 25, 49, 46, 28])"
   ]
  },
  {
   "cell_type": "code",
   "execution_count": null,
   "id": "82684c94-b89b-419e-986b-d2156759413a",
   "metadata": {
    "tags": []
   },
   "outputs": [],
   "source": [
    "# 25%에 해당하는 기준값 구하기\n",
    "Q1 = np.percentile(data, 25)"
   ]
  },
  {
   "cell_type": "code",
   "execution_count": null,
   "id": "cd8ed060-0c91-4574-a427-553c6d7f63b0",
   "metadata": {
    "tags": []
   },
   "outputs": [],
   "source": [
    "Q3 = np.percentile(data, 75)"
   ]
  },
  {
   "cell_type": "code",
   "execution_count": null,
   "id": "38c3dd1e-832d-4782-8806-754a20d090a4",
   "metadata": {
    "tags": []
   },
   "outputs": [],
   "source": [
    "Q1, Q3"
   ]
  },
  {
   "cell_type": "code",
   "execution_count": null,
   "id": "df0a0bc1-ecef-4c59-8732-6d578481d850",
   "metadata": {
    "tags": []
   },
   "outputs": [],
   "source": [
    "Q3 - Q1"
   ]
  },
  {
   "cell_type": "code",
   "execution_count": null,
   "id": "95085e71-ac26-4fa2-8ab0-f9086b07cd92",
   "metadata": {
    "tags": []
   },
   "outputs": [],
   "source": [
    "np.median(data)"
   ]
  },
  {
   "cell_type": "code",
   "execution_count": null,
   "id": "a3af0dab-a054-447b-9a2f-6bf680a42871",
   "metadata": {
    "tags": []
   },
   "outputs": [],
   "source": [
    "import seaborn as sns"
   ]
  },
  {
   "cell_type": "code",
   "execution_count": null,
   "id": "ba72f7f1-648b-4ab6-948b-1375f42b5219",
   "metadata": {
    "tags": []
   },
   "outputs": [],
   "source": [
    "sns.boxplot(data)"
   ]
  },
  {
   "cell_type": "code",
   "execution_count": null,
   "id": "0168ee7e-8f38-42dd-9185-e1134882ae2f",
   "metadata": {},
   "outputs": [],
   "source": []
  },
  {
   "cell_type": "code",
   "execution_count": null,
   "id": "8dc6be81-b2d0-4e28-b603-11a11d79c5d6",
   "metadata": {},
   "outputs": [],
   "source": []
  }
 ],
 "metadata": {
  "kernelspec": {
   "display_name": "Python 3 (ipykernel)",
   "language": "python",
   "name": "python3"
  },
  "language_info": {
   "codemirror_mode": {
    "name": "ipython",
    "version": 3
   },
   "file_extension": ".py",
   "mimetype": "text/x-python",
   "name": "python",
   "nbconvert_exporter": "python",
   "pygments_lexer": "ipython3",
   "version": "3.11.3"
  }
 },
 "nbformat": 4,
 "nbformat_minor": 5
}
