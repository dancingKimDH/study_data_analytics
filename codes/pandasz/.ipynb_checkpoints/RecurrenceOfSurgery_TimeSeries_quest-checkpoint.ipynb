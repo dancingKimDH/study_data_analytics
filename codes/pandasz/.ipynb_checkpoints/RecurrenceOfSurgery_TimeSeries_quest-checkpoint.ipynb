{
 "cells": [
  {
   "cell_type": "code",
   "execution_count": 145,
   "id": "87dfdd79-f67d-4d13-aafe-9ef7be026d86",
   "metadata": {
    "tags": []
   },
   "outputs": [],
   "source": [
    "import matplotlib.pyplot as plt\n",
    "import matplotlib as mpl\n",
    "mpl.rc('font', family='Malgun Gothic')\n",
    "import seaborn as sns\n",
    "import pandas as pd\n",
    "import scipy.stats as stats"
   ]
  },
  {
   "cell_type": "code",
   "execution_count": 146,
   "id": "550c1c2b-50f4-4060-9bbd-3c1870243c14",
   "metadata": {
    "tags": []
   },
   "outputs": [],
   "source": [
    "df_H = pd.read_csv('../../datasets/RecurrenceOfSurgery.csv')"
   ]
  },
  {
   "cell_type": "code",
   "execution_count": 147,
   "id": "2e1242bc-49f8-47d4-a813-84733d89b393",
   "metadata": {
    "tags": []
   },
   "outputs": [
    {
     "name": "stdout",
     "output_type": "stream",
     "text": [
      "<class 'pandas.core.frame.DataFrame'>\n",
      "RangeIndex: 1894 entries, 0 to 1893\n",
      "Data columns (total 52 columns):\n",
      " #   Column                  Non-Null Count  Dtype  \n",
      "---  ------                  --------------  -----  \n",
      " 0   Unnamed: 0              1894 non-null   int64  \n",
      " 1   환자ID                    1894 non-null   object \n",
      " 2   Large Lymphocyte        1894 non-null   float64\n",
      " 3   Location of herniation  1894 non-null   int64  \n",
      " 4   ODI                     462 non-null    float64\n",
      " 5   가족력                     1843 non-null   float64\n",
      " 6   간질성폐질환                  1894 non-null   int64  \n",
      " 7   고혈압여부                   1894 non-null   int64  \n",
      " 8   과거수술횟수                  1894 non-null   int64  \n",
      " 9   당뇨여부                    1894 non-null   int64  \n",
      " 10  말초동맥질환여부                1894 non-null   int64  \n",
      " 11  빈혈여부                    1894 non-null   int64  \n",
      " 12  성별                      1894 non-null   int64  \n",
      " 13  스테로이드치료                 1894 non-null   int64  \n",
      " 14  신부전여부                   1894 non-null   int64  \n",
      " 15  신장                      1894 non-null   int64  \n",
      " 16  심혈관질환                   1894 non-null   int64  \n",
      " 17  암발병여부                   1894 non-null   int64  \n",
      " 18  연령                      1894 non-null   int64  \n",
      " 19  우울증여부                   1894 non-null   int64  \n",
      " 20  입원기간                    1894 non-null   int64  \n",
      " 21  입원일자                    1894 non-null   int64  \n",
      " 22  종양진행여부                  1894 non-null   int64  \n",
      " 23  직업                      1479 non-null   object \n",
      " 24  체중                      1894 non-null   float64\n",
      " 25  퇴원일자                    1894 non-null   int64  \n",
      " 26  헤모글로빈수치                 1893 non-null   float64\n",
      " 27  혈전합병증여부                 1894 non-null   int64  \n",
      " 28  환자통증정도                  1894 non-null   int64  \n",
      " 29  흡연여부                    1894 non-null   int64  \n",
      " 30  통증기간(월)                 1890 non-null   float64\n",
      " 31  수술기법                    1813 non-null   object \n",
      " 32  수술시간                    1840 non-null   float64\n",
      " 33  수술실패여부                  1894 non-null   int64  \n",
      " 34  수술일자                    1894 non-null   int64  \n",
      " 35  재발여부                    1894 non-null   int64  \n",
      " 36  혈액형                     1894 non-null   object \n",
      " 37  전방디스크높이(mm)             1894 non-null   float64\n",
      " 38  후방디스크높이(mm)             1894 non-null   float64\n",
      " 39  지방축적도                   1891 non-null   float64\n",
      " 40  Instability             1894 non-null   int64  \n",
      " 41  MF + ES                 1894 non-null   float64\n",
      " 42  Modic change            1894 non-null   int64  \n",
      " 43  PI                      1890 non-null   float64\n",
      " 44  PT                      1890 non-null   float64\n",
      " 45  Seg Angle(raw)          1893 non-null   float64\n",
      " 46  Vaccum disc             1894 non-null   int64  \n",
      " 47  골밀도                     998 non-null    float64\n",
      " 48  디스크단면적                  1893 non-null   float64\n",
      " 49  디스크위치                   1894 non-null   int64  \n",
      " 50  척추이동척도                  1894 non-null   object \n",
      " 51  척추전방위증                  1894 non-null   int64  \n",
      "dtypes: float64(16), int64(31), object(5)\n",
      "memory usage: 769.6+ KB\n"
     ]
    }
   ],
   "source": [
    "df_H.info()"
   ]
  },
  {
   "cell_type": "code",
   "execution_count": 148,
   "id": "8c8ce72e-d95a-4e52-98ee-ad625a8dc599",
   "metadata": {
    "tags": []
   },
   "outputs": [
    {
     "data": {
      "text/html": [
       "<div>\n",
       "<style scoped>\n",
       "    .dataframe tbody tr th:only-of-type {\n",
       "        vertical-align: middle;\n",
       "    }\n",
       "\n",
       "    .dataframe tbody tr th {\n",
       "        vertical-align: top;\n",
       "    }\n",
       "\n",
       "    .dataframe thead th {\n",
       "        text-align: right;\n",
       "    }\n",
       "</style>\n",
       "<table border=\"1\" class=\"dataframe\">\n",
       "  <thead>\n",
       "    <tr style=\"text-align: right;\">\n",
       "      <th></th>\n",
       "      <th>입원일자</th>\n",
       "      <th>퇴원일자</th>\n",
       "    </tr>\n",
       "  </thead>\n",
       "  <tbody>\n",
       "    <tr>\n",
       "      <th>0</th>\n",
       "      <td>20190713</td>\n",
       "      <td>20190716</td>\n",
       "    </tr>\n",
       "    <tr>\n",
       "      <th>1</th>\n",
       "      <td>20190715</td>\n",
       "      <td>20190716</td>\n",
       "    </tr>\n",
       "  </tbody>\n",
       "</table>\n",
       "</div>"
      ],
      "text/plain": [
       "       입원일자      퇴원일자\n",
       "0  20190713  20190716\n",
       "1  20190715  20190716"
      ]
     },
     "execution_count": 148,
     "metadata": {},
     "output_type": "execute_result"
    }
   ],
   "source": [
    "# 입원일자 및 퇴원일자 추출\n",
    "df_stat = df_H[['입원일자', '퇴원일자']]\n",
    "df_stat[:2]"
   ]
  },
  {
   "cell_type": "code",
   "execution_count": 149,
   "id": "04a6a2cc-ffe2-4150-a1ad-d5f5f503852d",
   "metadata": {
    "tags": []
   },
   "outputs": [
    {
     "data": {
      "text/plain": [
       "입원일자    0\n",
       "퇴원일자    0\n",
       "dtype: int64"
      ]
     },
     "execution_count": 149,
     "metadata": {},
     "output_type": "execute_result"
    }
   ],
   "source": [
    "# 결측치 확인\n",
    "df_stat.isnull().sum()"
   ]
  },
  {
   "cell_type": "code",
   "execution_count": 150,
   "id": "30bd5b19-4729-405e-9ca3-ba1c89a8264f",
   "metadata": {
    "tags": []
   },
   "outputs": [],
   "source": [
    "# pd.options.mode.chained_assignment = None  # default='warn'"
   ]
  },
  {
   "cell_type": "code",
   "execution_count": 151,
   "id": "ba47011c-c72a-42af-8e1b-59f037ff7aee",
   "metadata": {
    "tags": []
   },
   "outputs": [],
   "source": [
    "# date type 변환 중 error 발생\n",
    "# df_stat.loc[:, '입원일자'] = pd.to_datetime(df_H['입원일자'], format='%Y%m%d')\n",
    "# df_stat.loc[:, '입원일자']  = pd.to_datetime(df_stat['입원일자'], format='%Y%m%d')"
   ]
  },
  {
   "cell_type": "code",
   "execution_count": 152,
   "id": "358e8077-3798-4cf3-baaf-03fea4e9465f",
   "metadata": {
    "tags": []
   },
   "outputs": [],
   "source": [
    "# 날짜 str로 datatype 변환\n",
    "df_stat['입원일자'] = df_stat['입원일자'].astype(str)\n",
    "df_stat['퇴원일자'] = df_stat['퇴원일자'].astype(str)"
   ]
  },
  {
   "cell_type": "code",
   "execution_count": 153,
   "id": "76d6a670-6d6a-4153-9c4f-cee4d7931fd7",
   "metadata": {
    "tags": []
   },
   "outputs": [],
   "source": [
    "# 날짜 datetime으로 datatype 변환\n",
    "df_stat['입원일자'] = pd.to_datetime(df_stat['입원일자'])\n",
    "df_stat['퇴원일자'] = pd.to_datetime(df_stat['퇴원일자'])"
   ]
  },
  {
   "cell_type": "code",
   "execution_count": 154,
   "id": "e22b8f17-77fc-4aca-aaf1-7edade40617d",
   "metadata": {
    "tags": []
   },
   "outputs": [
    {
     "name": "stderr",
     "output_type": "stream",
     "text": [
      "C:\\Users\\04-17\\AppData\\Local\\Temp\\ipykernel_21640\\2347575955.py:1: FutureWarning: Treating datetime data as categorical rather than numeric in `.describe` is deprecated and will be removed in a future version of pandas. Specify `datetime_is_numeric=True` to silence this warning and adopt the future behavior now.\n",
      "  df_stat.describe()\n",
      "C:\\Users\\04-17\\AppData\\Local\\Temp\\ipykernel_21640\\2347575955.py:1: FutureWarning: Treating datetime data as categorical rather than numeric in `.describe` is deprecated and will be removed in a future version of pandas. Specify `datetime_is_numeric=True` to silence this warning and adopt the future behavior now.\n",
      "  df_stat.describe()\n"
     ]
    },
    {
     "data": {
      "text/html": [
       "<div>\n",
       "<style scoped>\n",
       "    .dataframe tbody tr th:only-of-type {\n",
       "        vertical-align: middle;\n",
       "    }\n",
       "\n",
       "    .dataframe tbody tr th {\n",
       "        vertical-align: top;\n",
       "    }\n",
       "\n",
       "    .dataframe thead th {\n",
       "        text-align: right;\n",
       "    }\n",
       "</style>\n",
       "<table border=\"1\" class=\"dataframe\">\n",
       "  <thead>\n",
       "    <tr style=\"text-align: right;\">\n",
       "      <th></th>\n",
       "      <th>입원일자</th>\n",
       "      <th>퇴원일자</th>\n",
       "    </tr>\n",
       "  </thead>\n",
       "  <tbody>\n",
       "    <tr>\n",
       "      <th>count</th>\n",
       "      <td>1894</td>\n",
       "      <td>1894</td>\n",
       "    </tr>\n",
       "    <tr>\n",
       "      <th>unique</th>\n",
       "      <td>1051</td>\n",
       "      <td>1012</td>\n",
       "    </tr>\n",
       "    <tr>\n",
       "      <th>top</th>\n",
       "      <td>2019-01-29 00:00:00</td>\n",
       "      <td>2012-02-29 00:00:00</td>\n",
       "    </tr>\n",
       "    <tr>\n",
       "      <th>freq</th>\n",
       "      <td>23</td>\n",
       "      <td>46</td>\n",
       "    </tr>\n",
       "    <tr>\n",
       "      <th>first</th>\n",
       "      <td>2009-01-20 00:00:00</td>\n",
       "      <td>2009-01-24 00:00:00</td>\n",
       "    </tr>\n",
       "    <tr>\n",
       "      <th>last</th>\n",
       "      <td>2020-08-04 00:00:00</td>\n",
       "      <td>2020-08-07 00:00:00</td>\n",
       "    </tr>\n",
       "  </tbody>\n",
       "</table>\n",
       "</div>"
      ],
      "text/plain": [
       "                       입원일자                 퇴원일자\n",
       "count                  1894                 1894\n",
       "unique                 1051                 1012\n",
       "top     2019-01-29 00:00:00  2012-02-29 00:00:00\n",
       "freq                     23                   46\n",
       "first   2009-01-20 00:00:00  2009-01-24 00:00:00\n",
       "last    2020-08-04 00:00:00  2020-08-07 00:00:00"
      ]
     },
     "execution_count": 154,
     "metadata": {},
     "output_type": "execute_result"
    }
   ],
   "source": [
    "df_stat.describe()"
   ]
  },
  {
   "cell_type": "code",
   "execution_count": 155,
   "id": "ec2b6dfc-953d-4c09-8f0f-ba272c1c837e",
   "metadata": {
    "tags": []
   },
   "outputs": [
    {
     "name": "stderr",
     "output_type": "stream",
     "text": [
      "C:\\Users\\04-17\\AppData\\Local\\Temp\\ipykernel_21640\\1560566079.py:2: FutureWarning: Series.dt.weekofyear and Series.dt.week have been deprecated. Please use Series.dt.isocalendar().week instead.\n",
      "  df_stat['weekly_admission'] = df_stat['입원일자'].dt.weekofyear\n"
     ]
    },
    {
     "data": {
      "text/html": [
       "<div>\n",
       "<style scoped>\n",
       "    .dataframe tbody tr th:only-of-type {\n",
       "        vertical-align: middle;\n",
       "    }\n",
       "\n",
       "    .dataframe tbody tr th {\n",
       "        vertical-align: top;\n",
       "    }\n",
       "\n",
       "    .dataframe thead th {\n",
       "        text-align: right;\n",
       "    }\n",
       "</style>\n",
       "<table border=\"1\" class=\"dataframe\">\n",
       "  <thead>\n",
       "    <tr style=\"text-align: right;\">\n",
       "      <th></th>\n",
       "      <th>weekly_admission</th>\n",
       "    </tr>\n",
       "  </thead>\n",
       "  <tbody>\n",
       "    <tr>\n",
       "      <th>count</th>\n",
       "      <td>1894.000000</td>\n",
       "    </tr>\n",
       "    <tr>\n",
       "      <th>mean</th>\n",
       "      <td>24.027983</td>\n",
       "    </tr>\n",
       "    <tr>\n",
       "      <th>std</th>\n",
       "      <td>16.404609</td>\n",
       "    </tr>\n",
       "    <tr>\n",
       "      <th>min</th>\n",
       "      <td>1.000000</td>\n",
       "    </tr>\n",
       "    <tr>\n",
       "      <th>25%</th>\n",
       "      <td>9.000000</td>\n",
       "    </tr>\n",
       "    <tr>\n",
       "      <th>50%</th>\n",
       "      <td>22.000000</td>\n",
       "    </tr>\n",
       "    <tr>\n",
       "      <th>75%</th>\n",
       "      <td>40.000000</td>\n",
       "    </tr>\n",
       "    <tr>\n",
       "      <th>max</th>\n",
       "      <td>52.000000</td>\n",
       "    </tr>\n",
       "  </tbody>\n",
       "</table>\n",
       "</div>"
      ],
      "text/plain": [
       "       weekly_admission\n",
       "count       1894.000000\n",
       "mean          24.027983\n",
       "std           16.404609\n",
       "min            1.000000\n",
       "25%            9.000000\n",
       "50%           22.000000\n",
       "75%           40.000000\n",
       "max           52.000000"
      ]
     },
     "execution_count": 155,
     "metadata": {},
     "output_type": "execute_result"
    }
   ],
   "source": [
    "# 주 단위로 날짜 변환\n",
    "df_stat['weekly_admission'] = df_stat['입원일자'].dt.weekofyear\n",
    "df_stat.describe()"
   ]
  },
  {
   "cell_type": "code",
   "execution_count": 156,
   "id": "c41d46c2-79f1-4793-9fb3-532ec426946d",
   "metadata": {
    "tags": []
   },
   "outputs": [
    {
     "name": "stderr",
     "output_type": "stream",
     "text": [
      "C:\\Users\\04-17\\AppData\\Local\\Temp\\ipykernel_21640\\1694355672.py:1: FutureWarning: Series.dt.weekofyear and Series.dt.week have been deprecated. Please use Series.dt.isocalendar().week instead.\n",
      "  df_stat['weekly_release'] = df_stat['퇴원일자'].dt.weekofyear\n"
     ]
    },
    {
     "data": {
      "text/html": [
       "<div>\n",
       "<style scoped>\n",
       "    .dataframe tbody tr th:only-of-type {\n",
       "        vertical-align: middle;\n",
       "    }\n",
       "\n",
       "    .dataframe tbody tr th {\n",
       "        vertical-align: top;\n",
       "    }\n",
       "\n",
       "    .dataframe thead th {\n",
       "        text-align: right;\n",
       "    }\n",
       "</style>\n",
       "<table border=\"1\" class=\"dataframe\">\n",
       "  <thead>\n",
       "    <tr style=\"text-align: right;\">\n",
       "      <th></th>\n",
       "      <th>weekly_admission</th>\n",
       "      <th>weekly_release</th>\n",
       "    </tr>\n",
       "  </thead>\n",
       "  <tbody>\n",
       "    <tr>\n",
       "      <th>count</th>\n",
       "      <td>1894.000000</td>\n",
       "      <td>1894.000000</td>\n",
       "    </tr>\n",
       "    <tr>\n",
       "      <th>mean</th>\n",
       "      <td>24.027983</td>\n",
       "      <td>23.748152</td>\n",
       "    </tr>\n",
       "    <tr>\n",
       "      <th>std</th>\n",
       "      <td>16.404609</td>\n",
       "      <td>16.339001</td>\n",
       "    </tr>\n",
       "    <tr>\n",
       "      <th>min</th>\n",
       "      <td>1.000000</td>\n",
       "      <td>1.000000</td>\n",
       "    </tr>\n",
       "    <tr>\n",
       "      <th>25%</th>\n",
       "      <td>9.000000</td>\n",
       "      <td>9.000000</td>\n",
       "    </tr>\n",
       "    <tr>\n",
       "      <th>50%</th>\n",
       "      <td>22.000000</td>\n",
       "      <td>22.000000</td>\n",
       "    </tr>\n",
       "    <tr>\n",
       "      <th>75%</th>\n",
       "      <td>40.000000</td>\n",
       "      <td>40.000000</td>\n",
       "    </tr>\n",
       "    <tr>\n",
       "      <th>max</th>\n",
       "      <td>52.000000</td>\n",
       "      <td>53.000000</td>\n",
       "    </tr>\n",
       "  </tbody>\n",
       "</table>\n",
       "</div>"
      ],
      "text/plain": [
       "       weekly_admission  weekly_release\n",
       "count       1894.000000     1894.000000\n",
       "mean          24.027983       23.748152\n",
       "std           16.404609       16.339001\n",
       "min            1.000000        1.000000\n",
       "25%            9.000000        9.000000\n",
       "50%           22.000000       22.000000\n",
       "75%           40.000000       40.000000\n",
       "max           52.000000       53.000000"
      ]
     },
     "execution_count": 156,
     "metadata": {},
     "output_type": "execute_result"
    }
   ],
   "source": [
    "df_stat['weekly_release'] = df_stat['퇴원일자'].dt.weekofyear\n",
    "df_stat.describe()"
   ]
  },
  {
   "cell_type": "code",
   "execution_count": 157,
   "id": "6c7553fc-915b-4ae1-b1f6-a448f94aedea",
   "metadata": {
    "tags": []
   },
   "outputs": [
    {
     "data": {
      "text/plain": [
       "<Axes: xlabel='weekly_admission', ylabel='Count'>"
      ]
     },
     "execution_count": 157,
     "metadata": {},
     "output_type": "execute_result"
    },
    {
     "data": {
      "image/png": "[encoded data removed]",
      "text/plain": [
       "<Figure size 640x480 with 1 Axes>"
      ]
     },
     "metadata": {},
     "output_type": "display_data"
    }
   ],
   "source": [
    "# 주 단위 입원 환자 통계 (count)\n",
    "sns.histplot(data=df_stat, x='weekly_admission', kde=True)"
   ]
  },
  {
   "cell_type": "code",
   "execution_count": 158,
   "id": "667212a5-e913-4246-8c03-309de3824d49",
   "metadata": {
    "tags": []
   },
   "outputs": [
    {
     "data": {
      "text/plain": [
       "<Axes: xlabel='weekly_release', ylabel='Count'>"
      ]
     },
     "execution_count": 158,
     "metadata": {},
     "output_type": "execute_result"
    },
    {
     "data": {
      "image/png": "[encoded data removed]",
      "text/plain": [
       "<Figure size 640x480 with 1 Axes>"
      ]
     },
     "metadata": {},
     "output_type": "display_data"
    }
   ],
   "source": [
    "# 주 단위 퇴원 환자 통계 (count)\n",
    "sns.histplot(data=df_stat, x='weekly_release', kde=True)"
   ]
  },
  {
   "cell_type": "code",
   "execution_count": 159,
   "id": "232111f8-48a8-46c5-8b6b-67e75d804f5d",
   "metadata": {
    "tags": []
   },
   "outputs": [
    {
     "data": {
      "text/html": [
       "<div>\n",
       "<style scoped>\n",
       "    .dataframe tbody tr th:only-of-type {\n",
       "        vertical-align: middle;\n",
       "    }\n",
       "\n",
       "    .dataframe tbody tr th {\n",
       "        vertical-align: top;\n",
       "    }\n",
       "\n",
       "    .dataframe thead th {\n",
       "        text-align: right;\n",
       "    }\n",
       "</style>\n",
       "<table border=\"1\" class=\"dataframe\">\n",
       "  <thead>\n",
       "    <tr style=\"text-align: right;\">\n",
       "      <th></th>\n",
       "      <th>입원일자</th>\n",
       "      <th>퇴원일자</th>\n",
       "      <th>weekly_admission</th>\n",
       "      <th>weekly_release</th>\n",
       "      <th>day_admission</th>\n",
       "      <th>day_release</th>\n",
       "    </tr>\n",
       "  </thead>\n",
       "  <tbody>\n",
       "    <tr>\n",
       "      <th>0</th>\n",
       "      <td>2019-07-13</td>\n",
       "      <td>2019-07-16</td>\n",
       "      <td>28</td>\n",
       "      <td>29</td>\n",
       "      <td>Saturday</td>\n",
       "      <td>Tuesday</td>\n",
       "    </tr>\n",
       "    <tr>\n",
       "      <th>1</th>\n",
       "      <td>2019-07-15</td>\n",
       "      <td>2019-07-16</td>\n",
       "      <td>29</td>\n",
       "      <td>29</td>\n",
       "      <td>Monday</td>\n",
       "      <td>Tuesday</td>\n",
       "    </tr>\n",
       "    <tr>\n",
       "      <th>2</th>\n",
       "      <td>2019-07-29</td>\n",
       "      <td>2019-08-01</td>\n",
       "      <td>31</td>\n",
       "      <td>31</td>\n",
       "      <td>Monday</td>\n",
       "      <td>Thursday</td>\n",
       "    </tr>\n",
       "    <tr>\n",
       "      <th>3</th>\n",
       "      <td>2019-07-31</td>\n",
       "      <td>2019-08-03</td>\n",
       "      <td>31</td>\n",
       "      <td>31</td>\n",
       "      <td>Wednesday</td>\n",
       "      <td>Saturday</td>\n",
       "    </tr>\n",
       "    <tr>\n",
       "      <th>4</th>\n",
       "      <td>2019-09-03</td>\n",
       "      <td>2019-09-07</td>\n",
       "      <td>36</td>\n",
       "      <td>36</td>\n",
       "      <td>Tuesday</td>\n",
       "      <td>Saturday</td>\n",
       "    </tr>\n",
       "    <tr>\n",
       "      <th>...</th>\n",
       "      <td>...</td>\n",
       "      <td>...</td>\n",
       "      <td>...</td>\n",
       "      <td>...</td>\n",
       "      <td>...</td>\n",
       "      <td>...</td>\n",
       "    </tr>\n",
       "    <tr>\n",
       "      <th>1889</th>\n",
       "      <td>2017-04-07</td>\n",
       "      <td>2017-04-08</td>\n",
       "      <td>14</td>\n",
       "      <td>14</td>\n",
       "      <td>Friday</td>\n",
       "      <td>Saturday</td>\n",
       "    </tr>\n",
       "    <tr>\n",
       "      <th>1890</th>\n",
       "      <td>2017-04-26</td>\n",
       "      <td>2017-04-29</td>\n",
       "      <td>17</td>\n",
       "      <td>17</td>\n",
       "      <td>Wednesday</td>\n",
       "      <td>Saturday</td>\n",
       "    </tr>\n",
       "    <tr>\n",
       "      <th>1891</th>\n",
       "      <td>2017-04-10</td>\n",
       "      <td>2017-04-12</td>\n",
       "      <td>15</td>\n",
       "      <td>15</td>\n",
       "      <td>Monday</td>\n",
       "      <td>Wednesday</td>\n",
       "    </tr>\n",
       "    <tr>\n",
       "      <th>1892</th>\n",
       "      <td>2017-04-08</td>\n",
       "      <td>2017-04-11</td>\n",
       "      <td>14</td>\n",
       "      <td>15</td>\n",
       "      <td>Saturday</td>\n",
       "      <td>Tuesday</td>\n",
       "    </tr>\n",
       "    <tr>\n",
       "      <th>1893</th>\n",
       "      <td>2017-04-12</td>\n",
       "      <td>2017-04-13</td>\n",
       "      <td>15</td>\n",
       "      <td>15</td>\n",
       "      <td>Wednesday</td>\n",
       "      <td>Thursday</td>\n",
       "    </tr>\n",
       "  </tbody>\n",
       "</table>\n",
       "<p>1894 rows × 6 columns</p>\n",
       "</div>"
      ],
      "text/plain": [
       "           입원일자       퇴원일자  weekly_admission  weekly_release day_admission  \\\n",
       "0    2019-07-13 2019-07-16                28              29      Saturday   \n",
       "1    2019-07-15 2019-07-16                29              29        Monday   \n",
       "2    2019-07-29 2019-08-01                31              31        Monday   \n",
       "3    2019-07-31 2019-08-03                31              31     Wednesday   \n",
       "4    2019-09-03 2019-09-07                36              36       Tuesday   \n",
       "...         ...        ...               ...             ...           ...   \n",
       "1889 2017-04-07 2017-04-08                14              14        Friday   \n",
       "1890 2017-04-26 2017-04-29                17              17     Wednesday   \n",
       "1891 2017-04-10 2017-04-12                15              15        Monday   \n",
       "1892 2017-04-08 2017-04-11                14              15      Saturday   \n",
       "1893 2017-04-12 2017-04-13                15              15     Wednesday   \n",
       "\n",
       "     day_release  \n",
       "0        Tuesday  \n",
       "1        Tuesday  \n",
       "2       Thursday  \n",
       "3       Saturday  \n",
       "4       Saturday  \n",
       "...          ...  \n",
       "1889    Saturday  \n",
       "1890    Saturday  \n",
       "1891   Wednesday  \n",
       "1892     Tuesday  \n",
       "1893    Thursday  \n",
       "\n",
       "[1894 rows x 6 columns]"
      ]
     },
     "execution_count": 159,
     "metadata": {},
     "output_type": "execute_result"
    }
   ],
   "source": [
    "# 각 날짜 별 요일을 포함한 표 반환\n",
    "df_stat['day_admission'] = df_stat['입원일자'].dt.day_name()\n",
    "df_stat['day_release'] = df_stat['퇴원일자'].dt.day_name()\n",
    "df_stat"
   ]
  },
  {
   "cell_type": "code",
   "execution_count": 160,
   "id": "a0b24af1-a62f-47a6-8c0e-266739cc90ff",
   "metadata": {
    "tags": []
   },
   "outputs": [],
   "source": [
    "day_order = ['Monday', 'Tuesday', 'Wednesday', 'Thursday', 'Friday', 'Saturday', 'Sunday']"
   ]
  },
  {
   "cell_type": "code",
   "execution_count": 180,
   "id": "dc0b3e23-5fd0-4cdc-880a-ea5202c874eb",
   "metadata": {
    "tags": []
   },
   "outputs": [
    {
     "name": "stdout",
     "output_type": "stream",
     "text": [
      "<class 'pandas.core.frame.DataFrame'>\n",
      "RangeIndex: 1894 entries, 0 to 1893\n",
      "Data columns (total 2 columns):\n",
      " #   Column         Non-Null Count  Dtype \n",
      "---  ------         --------------  ----- \n",
      " 0   day_admission  1894 non-null   object\n",
      " 1   day_release    1894 non-null   object\n",
      "dtypes: object(2)\n",
      "memory usage: 29.7+ KB\n"
     ]
    }
   ],
   "source": [
    "df_day = df_stat[['day_admission', 'day_release']]\n",
    "df_day.info()"
   ]
  },
  {
   "cell_type": "code",
   "execution_count": 182,
   "id": "55c5e678-9c83-4ed1-a410-96ef46a397f0",
   "metadata": {
    "tags": []
   },
   "outputs": [
    {
     "data": {
      "text/html": [
       "<div>\n",
       "<style scoped>\n",
       "    .dataframe tbody tr th:only-of-type {\n",
       "        vertical-align: middle;\n",
       "    }\n",
       "\n",
       "    .dataframe tbody tr th {\n",
       "        vertical-align: top;\n",
       "    }\n",
       "\n",
       "    .dataframe thead th {\n",
       "        text-align: right;\n",
       "    }\n",
       "</style>\n",
       "<table border=\"1\" class=\"dataframe\">\n",
       "  <thead>\n",
       "    <tr style=\"text-align: right;\">\n",
       "      <th></th>\n",
       "      <th>day_admission</th>\n",
       "      <th>day_release</th>\n",
       "    </tr>\n",
       "  </thead>\n",
       "  <tbody>\n",
       "    <tr>\n",
       "      <th>0</th>\n",
       "      <td>Saturday</td>\n",
       "      <td>Tuesday</td>\n",
       "    </tr>\n",
       "    <tr>\n",
       "      <th>1</th>\n",
       "      <td>Monday</td>\n",
       "      <td>Tuesday</td>\n",
       "    </tr>\n",
       "    <tr>\n",
       "      <th>2</th>\n",
       "      <td>Monday</td>\n",
       "      <td>Thursday</td>\n",
       "    </tr>\n",
       "    <tr>\n",
       "      <th>3</th>\n",
       "      <td>Wednesday</td>\n",
       "      <td>Saturday</td>\n",
       "    </tr>\n",
       "    <tr>\n",
       "      <th>4</th>\n",
       "      <td>Tuesday</td>\n",
       "      <td>Saturday</td>\n",
       "    </tr>\n",
       "    <tr>\n",
       "      <th>...</th>\n",
       "      <td>...</td>\n",
       "      <td>...</td>\n",
       "    </tr>\n",
       "    <tr>\n",
       "      <th>1889</th>\n",
       "      <td>Friday</td>\n",
       "      <td>Saturday</td>\n",
       "    </tr>\n",
       "    <tr>\n",
       "      <th>1890</th>\n",
       "      <td>Wednesday</td>\n",
       "      <td>Saturday</td>\n",
       "    </tr>\n",
       "    <tr>\n",
       "      <th>1891</th>\n",
       "      <td>Monday</td>\n",
       "      <td>Wednesday</td>\n",
       "    </tr>\n",
       "    <tr>\n",
       "      <th>1892</th>\n",
       "      <td>Saturday</td>\n",
       "      <td>Tuesday</td>\n",
       "    </tr>\n",
       "    <tr>\n",
       "      <th>1893</th>\n",
       "      <td>Wednesday</td>\n",
       "      <td>Thursday</td>\n",
       "    </tr>\n",
       "  </tbody>\n",
       "</table>\n",
       "<p>1894 rows × 2 columns</p>\n",
       "</div>"
      ],
      "text/plain": [
       "     day_admission day_release\n",
       "0         Saturday     Tuesday\n",
       "1           Monday     Tuesday\n",
       "2           Monday    Thursday\n",
       "3        Wednesday    Saturday\n",
       "4          Tuesday    Saturday\n",
       "...            ...         ...\n",
       "1889        Friday    Saturday\n",
       "1890     Wednesday    Saturday\n",
       "1891        Monday   Wednesday\n",
       "1892      Saturday     Tuesday\n",
       "1893     Wednesday    Thursday\n",
       "\n",
       "[1894 rows x 2 columns]"
      ]
     },
     "execution_count": 182,
     "metadata": {},
     "output_type": "execute_result"
    }
   ],
   "source": [
    "df_day"
   ]
  },
  {
   "cell_type": "code",
   "execution_count": 188,
   "id": "74ff2f05-0bea-4da0-8a74-adaf49735ed7",
   "metadata": {
    "tags": []
   },
   "outputs": [
    {
     "data": {
      "text/html": [
       "<div>\n",
       "<style scoped>\n",
       "    .dataframe tbody tr th:only-of-type {\n",
       "        vertical-align: middle;\n",
       "    }\n",
       "\n",
       "    .dataframe tbody tr th {\n",
       "        vertical-align: top;\n",
       "    }\n",
       "\n",
       "    .dataframe thead th {\n",
       "        text-align: right;\n",
       "    }\n",
       "</style>\n",
       "<table border=\"1\" class=\"dataframe\">\n",
       "  <thead>\n",
       "    <tr style=\"text-align: right;\">\n",
       "      <th></th>\n",
       "      <th>day_admission</th>\n",
       "    </tr>\n",
       "  </thead>\n",
       "  <tbody>\n",
       "    <tr>\n",
       "      <th>0</th>\n",
       "      <td>Saturday</td>\n",
       "    </tr>\n",
       "    <tr>\n",
       "      <th>1</th>\n",
       "      <td>Monday</td>\n",
       "    </tr>\n",
       "    <tr>\n",
       "      <th>2</th>\n",
       "      <td>Monday</td>\n",
       "    </tr>\n",
       "    <tr>\n",
       "      <th>3</th>\n",
       "      <td>Wednesday</td>\n",
       "    </tr>\n",
       "    <tr>\n",
       "      <th>4</th>\n",
       "      <td>Tuesday</td>\n",
       "    </tr>\n",
       "    <tr>\n",
       "      <th>...</th>\n",
       "      <td>...</td>\n",
       "    </tr>\n",
       "    <tr>\n",
       "      <th>1889</th>\n",
       "      <td>Friday</td>\n",
       "    </tr>\n",
       "    <tr>\n",
       "      <th>1890</th>\n",
       "      <td>Wednesday</td>\n",
       "    </tr>\n",
       "    <tr>\n",
       "      <th>1891</th>\n",
       "      <td>Monday</td>\n",
       "    </tr>\n",
       "    <tr>\n",
       "      <th>1892</th>\n",
       "      <td>Saturday</td>\n",
       "    </tr>\n",
       "    <tr>\n",
       "      <th>1893</th>\n",
       "      <td>Wednesday</td>\n",
       "    </tr>\n",
       "  </tbody>\n",
       "</table>\n",
       "<p>1894 rows × 1 columns</p>\n",
       "</div>"
      ],
      "text/plain": [
       "     day_admission\n",
       "0         Saturday\n",
       "1           Monday\n",
       "2           Monday\n",
       "3        Wednesday\n",
       "4          Tuesday\n",
       "...            ...\n",
       "1889        Friday\n",
       "1890     Wednesday\n",
       "1891        Monday\n",
       "1892      Saturday\n",
       "1893     Wednesday\n",
       "\n",
       "[1894 rows x 1 columns]"
      ]
     },
     "execution_count": 188,
     "metadata": {},
     "output_type": "execute_result"
    }
   ],
   "source": [
    "df_day_admission = df_day[['day_admission']]\n",
    "df_day_admission"
   ]
  },
  {
   "cell_type": "code",
   "execution_count": 192,
   "id": "cefdc5b2-4a57-47fd-9647-b3ea08305a50",
   "metadata": {
    "tags": []
   },
   "outputs": [
    {
     "data": {
      "text/plain": [
       "day_admission\n",
       "Monday       329\n",
       "Tuesday      376\n",
       "Wednesday    304\n",
       "Thursday     329\n",
       "Friday       204\n",
       "Saturday     148\n",
       "Sunday       204\n",
       "dtype: int64"
      ]
     },
     "execution_count": 192,
     "metadata": {},
     "output_type": "execute_result"
    }
   ],
   "source": [
    "# df_pivot = df_stat.pivot_table(index='day_admission', aggfunc='sum')\n",
    "# Select only the columns that can be aggregated.\n",
    "# 요일별 입원 환자 pivot table\n",
    "df_pivot_admission = df_day_admission.groupby('day_admission').value_counts()\n",
    "df_pivot_admission = df_pivot_admission.reindex(day_order)\n",
    "df_pivot_admission"
   ]
  },
  {
   "cell_type": "code",
   "execution_count": 208,
   "id": "ea84b6ed-822e-4649-8f50-52870f64bc2e",
   "metadata": {
    "tags": []
   },
   "outputs": [
    {
     "data": {
      "text/html": [
       "<div>\n",
       "<style scoped>\n",
       "    .dataframe tbody tr th:only-of-type {\n",
       "        vertical-align: middle;\n",
       "    }\n",
       "\n",
       "    .dataframe tbody tr th {\n",
       "        vertical-align: top;\n",
       "    }\n",
       "\n",
       "    .dataframe thead th {\n",
       "        text-align: right;\n",
       "    }\n",
       "</style>\n",
       "<table border=\"1\" class=\"dataframe\">\n",
       "  <thead>\n",
       "    <tr style=\"text-align: right;\">\n",
       "      <th></th>\n",
       "      <th>day_release</th>\n",
       "    </tr>\n",
       "  </thead>\n",
       "  <tbody>\n",
       "    <tr>\n",
       "      <th>0</th>\n",
       "      <td>Tuesday</td>\n",
       "    </tr>\n",
       "    <tr>\n",
       "      <th>1</th>\n",
       "      <td>Tuesday</td>\n",
       "    </tr>\n",
       "    <tr>\n",
       "      <th>2</th>\n",
       "      <td>Thursday</td>\n",
       "    </tr>\n",
       "    <tr>\n",
       "      <th>3</th>\n",
       "      <td>Saturday</td>\n",
       "    </tr>\n",
       "    <tr>\n",
       "      <th>4</th>\n",
       "      <td>Saturday</td>\n",
       "    </tr>\n",
       "    <tr>\n",
       "      <th>...</th>\n",
       "      <td>...</td>\n",
       "    </tr>\n",
       "    <tr>\n",
       "      <th>1889</th>\n",
       "      <td>Saturday</td>\n",
       "    </tr>\n",
       "    <tr>\n",
       "      <th>1890</th>\n",
       "      <td>Saturday</td>\n",
       "    </tr>\n",
       "    <tr>\n",
       "      <th>1891</th>\n",
       "      <td>Wednesday</td>\n",
       "    </tr>\n",
       "    <tr>\n",
       "      <th>1892</th>\n",
       "      <td>Tuesday</td>\n",
       "    </tr>\n",
       "    <tr>\n",
       "      <th>1893</th>\n",
       "      <td>Thursday</td>\n",
       "    </tr>\n",
       "  </tbody>\n",
       "</table>\n",
       "<p>1894 rows × 1 columns</p>\n",
       "</div>"
      ],
      "text/plain": [
       "     day_release\n",
       "0        Tuesday\n",
       "1        Tuesday\n",
       "2       Thursday\n",
       "3       Saturday\n",
       "4       Saturday\n",
       "...          ...\n",
       "1889    Saturday\n",
       "1890    Saturday\n",
       "1891   Wednesday\n",
       "1892     Tuesday\n",
       "1893    Thursday\n",
       "\n",
       "[1894 rows x 1 columns]"
      ]
     },
     "execution_count": 208,
     "metadata": {},
     "output_type": "execute_result"
    }
   ],
   "source": [
    "df_day_release = df_day[['day_release']]\n",
    "df_day_release"
   ]
  },
  {
   "cell_type": "code",
   "execution_count": 206,
   "id": "1649bf4e-1720-4230-bcdb-0e84b8b71840",
   "metadata": {
    "tags": []
   },
   "outputs": [
    {
     "data": {
      "image/png": "[encoded data removed]",
      "text/plain": [
       "<Figure size 640x480 with 1 Axes>"
      ]
     },
     "metadata": {},
     "output_type": "display_data"
    }
   ],
   "source": [
    "df_graph = sns.lineplot(data=df_pivot_admission, label='admission')"
   ]
  },
  {
   "cell_type": "code",
   "execution_count": 211,
   "id": "8a0da71b-b730-4ef3-bab4-1ab8797abb05",
   "metadata": {
    "tags": []
   },
   "outputs": [
    {
     "data": {
      "text/plain": [
       "day_release\n",
       "Monday       184\n",
       "Tuesday      279\n",
       "Wednesday    348\n",
       "Thursday     329\n",
       "Friday       332\n",
       "Saturday     301\n",
       "Sunday       121\n",
       "dtype: int64"
      ]
     },
     "execution_count": 211,
     "metadata": {},
     "output_type": "execute_result"
    }
   ],
   "source": [
    "# 요일별 퇴원 환자 pivot table\n",
    "df_pivot_release = df_day_release.groupby('day_release').value_counts()\n",
    "df_pivot_release = df_pivot_release.reindex(day_order)\n",
    "df_pivot_release"
   ]
  },
  {
   "cell_type": "code",
   "execution_count": 213,
   "id": "20bfa28d-adc5-42f5-b3e4-5362901b0ef5",
   "metadata": {
    "tags": []
   },
   "outputs": [
    {
     "data": {
      "image/png": "[encoded data removed]",
      "text/plain": [
       "<Figure size 640x480 with 1 Axes>"
      ]
     },
     "metadata": {},
     "output_type": "display_data"
    }
   ],
   "source": [
    "# 요일별 입퇴원 환자 통계 그래프 환산\n",
    "df_graph = sns.lineplot(data=df_pivot_admission, label='admission')\n",
    "df_graph = sns.lineplot(data=df_pivot_release, label='release')"
   ]
  },
  {
   "cell_type": "code",
   "execution_count": null,
   "id": "497e0c05-8743-4a8b-b42a-14bd0d35d548",
   "metadata": {},
   "outputs": [],
   "source": []
  }
 ],
 "metadata": {
  "kernelspec": {
   "display_name": "Python 3 (ipykernel)",
   "language": "python",
   "name": "python3"
  },
  "language_info": {
   "codemirror_mode": {
    "name": "ipython",
    "version": 3
   },
   "file_extension": ".py",
   "mimetype": "text/x-python",
   "name": "python",
   "nbconvert_exporter": "python",
   "pygments_lexer": "ipython3",
   "version": "3.11.3"
  }
 },
 "nbformat": 4,
 "nbformat_minor": 5
}
