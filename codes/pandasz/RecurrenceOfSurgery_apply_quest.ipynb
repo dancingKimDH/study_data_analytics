{
 "cells": [
  {
   "cell_type": "code",
   "execution_count": 1,
   "id": "3c5d4ca7-156d-47eb-b42d-72c3631c440f",
   "metadata": {
    "tags": []
   },
   "outputs": [],
   "source": [
    "import matplotlib.pyplot as plt\n",
    "import matplotlib as mpl\n",
    "mpl.rc('font', family='Malgun Gothic')\n",
    "import seaborn as sns\n",
    "import pandas as pd\n",
    "import scipy.stats as stats\n",
    "df_H = pd.read_csv('../../datasets/RecurrenceOfSurgery.csv')"
   ]
  },
  {
   "cell_type": "code",
   "execution_count": 4,
   "id": "87b2009e-95cd-40e6-a3fd-7d4bfcce222c",
   "metadata": {
    "tags": []
   },
   "outputs": [
    {
     "name": "stdout",
     "output_type": "stream",
     "text": [
      "<class 'pandas.core.frame.DataFrame'>\n",
      "RangeIndex: 1894 entries, 0 to 1893\n",
      "Data columns (total 52 columns):\n",
      " #   Column                  Non-Null Count  Dtype  \n",
      "---  ------                  --------------  -----  \n",
      " 0   Unnamed: 0              1894 non-null   int64  \n",
      " 1   환자ID                    1894 non-null   object \n",
      " 2   Large Lymphocyte        1894 non-null   float64\n",
      " 3   Location of herniation  1894 non-null   int64  \n",
      " 4   ODI                     462 non-null    float64\n",
      " 5   가족력                     1843 non-null   float64\n",
      " 6   간질성폐질환                  1894 non-null   int64  \n",
      " 7   고혈압여부                   1894 non-null   int64  \n",
      " 8   과거수술횟수                  1894 non-null   int64  \n",
      " 9   당뇨여부                    1894 non-null   int64  \n",
      " 10  말초동맥질환여부                1894 non-null   int64  \n",
      " 11  빈혈여부                    1894 non-null   int64  \n",
      " 12  성별                      1894 non-null   int64  \n",
      " 13  스테로이드치료                 1894 non-null   int64  \n",
      " 14  신부전여부                   1894 non-null   int64  \n",
      " 15  신장                      1894 non-null   int64  \n",
      " 16  심혈관질환                   1894 non-null   int64  \n",
      " 17  암발병여부                   1894 non-null   int64  \n",
      " 18  연령                      1894 non-null   int64  \n",
      " 19  우울증여부                   1894 non-null   int64  \n",
      " 20  입원기간                    1894 non-null   int64  \n",
      " 21  입원일자                    1894 non-null   int64  \n",
      " 22  종양진행여부                  1894 non-null   int64  \n",
      " 23  직업                      1479 non-null   object \n",
      " 24  체중                      1894 non-null   float64\n",
      " 25  퇴원일자                    1894 non-null   int64  \n",
      " 26  헤모글로빈수치                 1893 non-null   float64\n",
      " 27  혈전합병증여부                 1894 non-null   int64  \n",
      " 28  환자통증정도                  1894 non-null   int64  \n",
      " 29  흡연여부                    1894 non-null   int64  \n",
      " 30  통증기간(월)                 1890 non-null   float64\n",
      " 31  수술기법                    1813 non-null   object \n",
      " 32  수술시간                    1840 non-null   float64\n",
      " 33  수술실패여부                  1894 non-null   int64  \n",
      " 34  수술일자                    1894 non-null   int64  \n",
      " 35  재발여부                    1894 non-null   int64  \n",
      " 36  혈액형                     1894 non-null   object \n",
      " 37  전방디스크높이(mm)             1894 non-null   float64\n",
      " 38  후방디스크높이(mm)             1894 non-null   float64\n",
      " 39  지방축적도                   1891 non-null   float64\n",
      " 40  Instability             1894 non-null   int64  \n",
      " 41  MF + ES                 1894 non-null   float64\n",
      " 42  Modic change            1894 non-null   int64  \n",
      " 43  PI                      1890 non-null   float64\n",
      " 44  PT                      1890 non-null   float64\n",
      " 45  Seg Angle(raw)          1893 non-null   float64\n",
      " 46  Vaccum disc             1894 non-null   int64  \n",
      " 47  골밀도                     998 non-null    float64\n",
      " 48  디스크단면적                  1893 non-null   float64\n",
      " 49  디스크위치                   1894 non-null   int64  \n",
      " 50  척추이동척도                  1894 non-null   object \n",
      " 51  척추전방위증                  1894 non-null   int64  \n",
      "dtypes: float64(16), int64(31), object(5)\n",
      "memory usage: 769.6+ KB\n"
     ]
    }
   ],
   "source": [
    "df_H.info()"
   ]
  },
  {
   "cell_type": "code",
   "execution_count": 7,
   "id": "5e87937f-511e-4322-bc11-9df2a02a207f",
   "metadata": {
    "tags": []
   },
   "outputs": [
    {
     "data": {
      "text/html": [
       "<div>\n",
       "<style scoped>\n",
       "    .dataframe tbody tr th:only-of-type {\n",
       "        vertical-align: middle;\n",
       "    }\n",
       "\n",
       "    .dataframe tbody tr th {\n",
       "        vertical-align: top;\n",
       "    }\n",
       "\n",
       "    .dataframe thead th {\n",
       "        text-align: right;\n",
       "    }\n",
       "</style>\n",
       "<table border=\"1\" class=\"dataframe\">\n",
       "  <thead>\n",
       "    <tr style=\"text-align: right;\">\n",
       "      <th></th>\n",
       "      <th>환자ID</th>\n",
       "      <th>신장</th>\n",
       "      <th>체중</th>\n",
       "    </tr>\n",
       "  </thead>\n",
       "  <tbody>\n",
       "    <tr>\n",
       "      <th>0</th>\n",
       "      <td>1PT</td>\n",
       "      <td>163</td>\n",
       "      <td>60.3</td>\n",
       "    </tr>\n",
       "    <tr>\n",
       "      <th>1</th>\n",
       "      <td>2PT</td>\n",
       "      <td>171</td>\n",
       "      <td>71.7</td>\n",
       "    </tr>\n",
       "  </tbody>\n",
       "</table>\n",
       "</div>"
      ],
      "text/plain": [
       "  환자ID   신장    체중\n",
       "0  1PT  163  60.3\n",
       "1  2PT  171  71.7"
      ]
     },
     "execution_count": 7,
     "metadata": {},
     "output_type": "execute_result"
    }
   ],
   "source": [
    "df_H_stat = df_H[['환자ID', '신장', '체중']]\n",
    "df_H_stat[:2]"
   ]
  },
  {
   "cell_type": "code",
   "execution_count": 8,
   "id": "90f01e5f-e75f-4591-a717-8a0eb4dd6e4a",
   "metadata": {
    "tags": []
   },
   "outputs": [
    {
     "data": {
      "text/plain": [
       "환자ID    0\n",
       "신장      0\n",
       "체중      0\n",
       "dtype: int64"
      ]
     },
     "execution_count": 8,
     "metadata": {},
     "output_type": "execute_result"
    }
   ],
   "source": [
    "df_H_stat.isnull().sum()"
   ]
  },
  {
   "cell_type": "code",
   "execution_count": 9,
   "id": "27315053-39c7-4602-9ea9-7391b962c409",
   "metadata": {
    "tags": []
   },
   "outputs": [
    {
     "name": "stdout",
     "output_type": "stream",
     "text": [
      "<class 'pandas.core.frame.DataFrame'>\n",
      "RangeIndex: 1894 entries, 0 to 1893\n",
      "Data columns (total 3 columns):\n",
      " #   Column  Non-Null Count  Dtype  \n",
      "---  ------  --------------  -----  \n",
      " 0   환자ID    1894 non-null   object \n",
      " 1   신장      1894 non-null   int64  \n",
      " 2   체중      1894 non-null   float64\n",
      "dtypes: float64(1), int64(1), object(1)\n",
      "memory usage: 44.5+ KB\n"
     ]
    }
   ],
   "source": [
    "df_H_stat.info()"
   ]
  },
  {
   "cell_type": "markdown",
   "id": "34234316-9420-4eff-88c1-de577bc2fdb8",
   "metadata": {
    "tags": []
   },
   "source": [
    "#### BMI를 환산할 Function"
   ]
  },
  {
   "cell_type": "code",
   "execution_count": 10,
   "id": "7b024802-112a-409b-9ddc-db58ef53e317",
   "metadata": {
    "tags": []
   },
   "outputs": [],
   "source": [
    "def BMI(weight, height):\n",
    "    a = height / 100\n",
    "    return weight / (a * a)"
   ]
  },
  {
   "cell_type": "code",
   "execution_count": 11,
   "id": "5a9b6689-5ef1-4a81-8ca6-c9a99d720f05",
   "metadata": {
    "tags": []
   },
   "outputs": [
    {
     "name": "stderr",
     "output_type": "stream",
     "text": [
      "C:\\Users\\04-17\\AppData\\Local\\Temp\\ipykernel_26268\\3759786357.py:1: SettingWithCopyWarning: \n",
      "A value is trying to be set on a copy of a slice from a DataFrame.\n",
      "Try using .loc[row_indexer,col_indexer] = value instead\n",
      "\n",
      "See the caveats in the documentation: https://pandas.pydata.org/pandas-docs/stable/user_guide/indexing.html#returning-a-view-versus-a-copy\n",
      "  df_H_stat['BMI'] = BMI(df_H_stat['체중'], df_H_stat['신장'])\n"
     ]
    }
   ],
   "source": [
    "df_H_stat['BMI'] = BMI(df_H_stat['체중'], df_H_stat['신장'])"
   ]
  },
  {
   "cell_type": "code",
   "execution_count": 12,
   "id": "bbac3260-928b-405d-ba05-19066279d889",
   "metadata": {
    "tags": []
   },
   "outputs": [
    {
     "data": {
      "text/plain": [
       "0       22.695623\n",
       "1       24.520365\n",
       "2       24.334049\n",
       "3       24.507861\n",
       "4       24.097465\n",
       "          ...    \n",
       "1889    25.964542\n",
       "1890    23.936062\n",
       "1891    25.099502\n",
       "1892    24.577867\n",
       "1893    17.361111\n",
       "Name: BMI, Length: 1894, dtype: float64"
      ]
     },
     "execution_count": 12,
     "metadata": {},
     "output_type": "execute_result"
    }
   ],
   "source": [
    "df_H_stat['BMI']"
   ]
  },
  {
   "cell_type": "markdown",
   "id": "d438e018-174d-4b5d-b4c3-6ee4dde450eb",
   "metadata": {},
   "source": [
    "#### BMI 등급을 환산할 Function"
   ]
  },
  {
   "cell_type": "code",
   "execution_count": 19,
   "id": "015e8127-5d6b-4078-9563-eb3a46f4f872",
   "metadata": {
    "tags": []
   },
   "outputs": [],
   "source": [
    "def BMI_Grade(bmi):\n",
    "    if bmi < 18.5:\n",
    "        return 'Underweight'\n",
    "    elif bmi >= 18.5 and bmi < 25:\n",
    "        return 'Healthy_Weight'\n",
    "    elif bmi >= 25 and bmi < 30:\n",
    "        return 'Overweight'\n",
    "    else: return 'Obesity'"
   ]
  },
  {
   "cell_type": "code",
   "execution_count": 20,
   "id": "371d7c67-607b-4e26-96b9-8f537965a60a",
   "metadata": {
    "tags": []
   },
   "outputs": [
    {
     "name": "stderr",
     "output_type": "stream",
     "text": [
      "C:\\Users\\04-17\\AppData\\Local\\Temp\\ipykernel_26268\\1931985480.py:1: SettingWithCopyWarning: \n",
      "A value is trying to be set on a copy of a slice from a DataFrame.\n",
      "Try using .loc[row_indexer,col_indexer] = value instead\n",
      "\n",
      "See the caveats in the documentation: https://pandas.pydata.org/pandas-docs/stable/user_guide/indexing.html#returning-a-view-versus-a-copy\n",
      "  df_H_stat['BMI Grade'] = df_H_stat['BMI'].apply(BMI_Grade)\n"
     ]
    }
   ],
   "source": [
    "df_H_stat['BMI Grade'] = df_H_stat['BMI'].apply(BMI_Grade)"
   ]
  },
  {
   "cell_type": "markdown",
   "id": "2a5e4e16-6839-4b9f-86d0-4f28b3e7c5cb",
   "metadata": {},
   "source": [
    "#### BMI와 BMI등급 표에 추가"
   ]
  },
  {
   "cell_type": "code",
   "execution_count": 21,
   "id": "5c1f7537-7bb3-49e1-9e20-6cac06c7c1f9",
   "metadata": {
    "tags": []
   },
   "outputs": [
    {
     "data": {
      "text/plain": [
       "0       Healthy_Weight\n",
       "1       Healthy_Weight\n",
       "2       Healthy_Weight\n",
       "3       Healthy_Weight\n",
       "4       Healthy_Weight\n",
       "             ...      \n",
       "1889        Overweight\n",
       "1890    Healthy_Weight\n",
       "1891        Overweight\n",
       "1892    Healthy_Weight\n",
       "1893       Underweight\n",
       "Name: BMI Grade, Length: 1894, dtype: object"
      ]
     },
     "execution_count": 21,
     "metadata": {},
     "output_type": "execute_result"
    }
   ],
   "source": [
    "df_H_stat['BMI Grade']"
   ]
  },
  {
   "cell_type": "code",
   "execution_count": 31,
   "id": "54772d62-75c2-4aaa-994d-a005351740a9",
   "metadata": {
    "tags": []
   },
   "outputs": [
    {
     "data": {
      "text/plain": [
       "Healthy_Weight    1390\n",
       "Overweight         403\n",
       "Obesity             63\n",
       "Underweight         38\n",
       "Name: BMI Grade, dtype: int64"
      ]
     },
     "execution_count": 31,
     "metadata": {},
     "output_type": "execute_result"
    }
   ],
   "source": [
    "df_H_table = df_H_stat['BMI Grade'].value_counts()\n",
    "df_H_table"
   ]
  },
  {
   "cell_type": "code",
   "execution_count": 52,
   "id": "90cdf399-0476-4d18-a888-1d1ee9d6a9c3",
   "metadata": {
    "tags": []
   },
   "outputs": [
    {
     "data": {
      "text/html": [
       "<div>\n",
       "<style scoped>\n",
       "    .dataframe tbody tr th:only-of-type {\n",
       "        vertical-align: middle;\n",
       "    }\n",
       "\n",
       "    .dataframe tbody tr th {\n",
       "        vertical-align: top;\n",
       "    }\n",
       "\n",
       "    .dataframe thead th {\n",
       "        text-align: right;\n",
       "    }\n",
       "</style>\n",
       "<table border=\"1\" class=\"dataframe\">\n",
       "  <thead>\n",
       "    <tr style=\"text-align: right;\">\n",
       "      <th></th>\n",
       "      <th>환자ID</th>\n",
       "      <th>BMI Grade</th>\n",
       "    </tr>\n",
       "  </thead>\n",
       "  <tbody>\n",
       "    <tr>\n",
       "      <th>0</th>\n",
       "      <td>1PT</td>\n",
       "      <td>Healthy_Weight</td>\n",
       "    </tr>\n",
       "    <tr>\n",
       "      <th>1</th>\n",
       "      <td>2PT</td>\n",
       "      <td>Healthy_Weight</td>\n",
       "    </tr>\n",
       "    <tr>\n",
       "      <th>2</th>\n",
       "      <td>3PT</td>\n",
       "      <td>Healthy_Weight</td>\n",
       "    </tr>\n",
       "    <tr>\n",
       "      <th>3</th>\n",
       "      <td>4PT</td>\n",
       "      <td>Healthy_Weight</td>\n",
       "    </tr>\n",
       "    <tr>\n",
       "      <th>4</th>\n",
       "      <td>5PT</td>\n",
       "      <td>Healthy_Weight</td>\n",
       "    </tr>\n",
       "  </tbody>\n",
       "</table>\n",
       "</div>"
      ],
      "text/plain": [
       "  환자ID       BMI Grade\n",
       "0  1PT  Healthy_Weight\n",
       "1  2PT  Healthy_Weight\n",
       "2  3PT  Healthy_Weight\n",
       "3  4PT  Healthy_Weight\n",
       "4  5PT  Healthy_Weight"
      ]
     },
     "execution_count": 52,
     "metadata": {},
     "output_type": "execute_result"
    }
   ],
   "source": [
    "df_stat_table = df_H_stat[['환자ID', 'BMI Grade']]\n",
    "df_stat_table[:5]"
   ]
  },
  {
   "cell_type": "code",
   "execution_count": 59,
   "id": "ee1799a5-8fd0-45a4-8728-5991ccd632c2",
   "metadata": {
    "tags": []
   },
   "outputs": [
    {
     "data": {
      "text/plain": [
       "Healthy_Weight    1390\n",
       "Overweight         403\n",
       "Obesity             63\n",
       "Underweight         38\n",
       "Name: BMI Grade, dtype: int64"
      ]
     },
     "execution_count": 59,
     "metadata": {},
     "output_type": "execute_result"
    }
   ],
   "source": [
    "df_H_table = df_H_stat['BMI Grade'].value_counts()\n",
    "df_H_table"
   ]
  },
  {
   "cell_type": "markdown",
   "id": "a4db2226-ac33-47b5-b5b4-c4267c4b9778",
   "metadata": {},
   "source": [
    "#### BMI등급에 따른 환자 수 시각화"
   ]
  },
  {
   "cell_type": "code",
   "execution_count": 69,
   "id": "7c85c1ee-f2be-46cb-a350-27e086590684",
   "metadata": {
    "tags": []
   },
   "outputs": [
    {
     "data": {
      "image/png": "[encoded data removed]",
      "text/plain": [
       "<Figure size 640x480 with 1 Axes>"
      ]
     },
     "metadata": {},
     "output_type": "display_data"
    }
   ],
   "source": [
    "# df_chart = sns.barplot(data=df_stat_table, x='BMI Grade', y='환자ID')\n",
    "df_chart = sns.countplot(x=df_H_stat['BMI Grade'])"
   ]
  },
  {
   "cell_type": "markdown",
   "id": "b2785265-c529-46c8-848f-bc2271edf52b",
   "metadata": {},
   "source": [
    "### 결론\n",
    "- 대부분의 환자는 Healthy Weight그룹에 속하였다.\n",
    "- 가장 적은 수의 환자가 속한 그룹은 Underweight이었다.\n",
    "- 다수의 환자들이 건강한 체중을 유지하고 있음을 통계를 통해 확인하였다."
   ]
  },
  {
   "cell_type": "code",
   "execution_count": null,
   "id": "21b37d20-4bd2-4277-85f0-f20de86753ae",
   "metadata": {},
   "outputs": [],
   "source": []
  }
 ],
 "metadata": {
  "kernelspec": {
   "display_name": "Python 3 (ipykernel)",
   "language": "python",
   "name": "python3"
  },
  "language_info": {
   "codemirror_mode": {
    "name": "ipython",
    "version": 3
   },
   "file_extension": ".py",
   "mimetype": "text/x-python",
   "name": "python",
   "nbconvert_exporter": "python",
   "pygments_lexer": "ipython3",
   "version": "3.11.3"
  }
 },
 "nbformat": 4,
 "nbformat_minor": 5
}
